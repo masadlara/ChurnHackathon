{
  "nbformat": 4,
  "nbformat_minor": 0,
  "metadata": {
    "colab": {
      "provenance": [],
      "authorship_tag": "ABX9TyPdQg6K8v2aeiY4Mwlg3fb7",
      "include_colab_link": true
    },
    "kernelspec": {
      "name": "python3",
      "display_name": "Python 3"
    },
    "language_info": {
      "name": "python"
    }
  },
  "cells": [
    {
      "cell_type": "markdown",
      "metadata": {
        "id": "view-in-github",
        "colab_type": "text"
      },
      "source": [
        "<a href=\"https://colab.research.google.com/github/masadlara/ChurnHackathon/blob/main/Churn_Prediction_in_Telecom_Industry_SkyOne.ipynb\" target=\"_parent\"><img src=\"https://colab.research.google.com/assets/colab-badge.svg\" alt=\"Open In Colab\"/></a>"
      ]
    },
    {
      "cell_type": "markdown",
      "source": [
        "#Churn Prediction in Telecom Industry - SkyOne"
      ],
      "metadata": {
        "id": "zOWPjw2Vfr3-"
      }
    },
    {
      "cell_type": "markdown",
      "source": [
        "##1. Notebook Description"
      ],
      "metadata": {
        "id": "iI23FnEff21a"
      }
    },
    {
      "cell_type": "markdown",
      "source": [
        "This notebook presents a comprehensive analysis of customer churn prediction in a telecom company - SkyOne. The primary objective is to develop an accurate predictive model that identifies customers likely to churn and suggest proactive measures for retention.\n",
        "\n",
        "The notebook begins with data exploration, including descriptive statistics, visualization of key variables, outlier detection, dimension redcution, correlation analysis and clustering.\n",
        "\n",
        "The main analysis focuses on building a churn prediction model using logistic regression. The notebook demonstrates the step-by-step process of data preprocessing, model training, evaluation, and interpretation of the results. Techniques such as train-test split, and performance metrics are employed.\n",
        "\n",
        "Additionally, the notebook explores the relationships between variables through correlation analysis and investigates the presence of multicollinearity. It also applies dimensionality reduction techniques, such as Principal Component Analysis (PCA), to handle high-dimensional data.\n",
        "\n",
        "The findings are presented through clear visualizations and insightful interpretations. The notebook concludes with suggestions for proactive measures to reduce customer churn and improve customer retention based on the model's predictions.\n",
        "\n",
        "This notebook serves as a comprehensive guide for understanding the data, building an accurate churn prediction model, and extracting actionable insights to support business decision-making in the telecom company - SkyOne."
      ],
      "metadata": {
        "id": "THkSjKt_sHH_"
      }
    },
    {
      "cell_type": "markdown",
      "source": [
        "##2. Load Needed Libraries"
      ],
      "metadata": {
        "id": "CNWzOKRkgzGh"
      }
    },
    {
      "cell_type": "markdown",
      "source": [
        "This section shows loading the needed libraries for this case study"
      ],
      "metadata": {
        "id": "A2GPxvOdxIx0"
      }
    },
    {
      "cell_type": "code",
      "source": [
        "#import the libraries\n",
        "import pandas as pd\n",
        "pd.set_option('display.max_rows',500)\n",
        "pd.set_option('display.max_columns',500)\n",
        "pd.set_option('display.width',1000)\n",
        "\n",
        "import numpy as np\n",
        "import sklearn\n",
        "import matplotlib.pyplot as plt\n",
        "%matplotlib inline\n",
        "\n",
        "import seaborn as sns\n",
        "\n",
        "from sklearn.preprocessing import LabelEncoder\n",
        "from sklearn.preprocessing import OneHotEncoder\n",
        "from sklearn.preprocessing import StandardScaler\n",
        "from sklearn.metrics import classification_report\n",
        "from sklearn.metrics import accuracy_score\n",
        "from sklearn.linear_model import LogisticRegression\n",
        "from sklearn.model_selection import train_test_split\n",
        "from sklearn.decomposition import PCA\n",
        "\n",
        "from plotly.offline import iplot\n",
        "import plotly.graph_objects as go\n",
        "from plotly.subplots import make_subplots"
      ],
      "metadata": {
        "id": "F6_351cmvNly"
      },
      "execution_count": null,
      "outputs": []
    },
    {
      "cell_type": "markdown",
      "source": [
        "##3. Load Dataset"
      ],
      "metadata": {
        "id": "0iKYk6QFhDCf"
      }
    },
    {
      "cell_type": "markdown",
      "source": [
        "This section shows loading the provided dataset for this case study, along with exploring how the data looks like, how many rows and columns it has and what titles the columns have within this dataset."
      ],
      "metadata": {
        "id": "v97qGoQQxX84"
      }
    },
    {
      "cell_type": "code",
      "source": [
        "#load dataset\n",
        "from google.colab import files\n",
        "uploaded = files.upload()"
      ],
      "metadata": {
        "colab": {
          "base_uri": "https://localhost:8080/",
          "height": 73
        },
        "id": "AvByfpUkxbvh",
        "outputId": "d4c65c09-3072-4e74-fd5e-2e0843554ee7"
      },
      "execution_count": null,
      "outputs": [
        {
          "output_type": "display_data",
          "data": {
            "text/plain": [
              "<IPython.core.display.HTML object>"
            ],
            "text/html": [
              "\n",
              "     <input type=\"file\" id=\"files-612d77ff-9657-4cc8-b291-3e5c40ed836d\" name=\"files[]\" multiple disabled\n",
              "        style=\"border:none\" />\n",
              "     <output id=\"result-612d77ff-9657-4cc8-b291-3e5c40ed836d\">\n",
              "      Upload widget is only available when the cell has been executed in the\n",
              "      current browser session. Please rerun this cell to enable.\n",
              "      </output>\n",
              "      <script>// Copyright 2017 Google LLC\n",
              "//\n",
              "// Licensed under the Apache License, Version 2.0 (the \"License\");\n",
              "// you may not use this file except in compliance with the License.\n",
              "// You may obtain a copy of the License at\n",
              "//\n",
              "//      http://www.apache.org/licenses/LICENSE-2.0\n",
              "//\n",
              "// Unless required by applicable law or agreed to in writing, software\n",
              "// distributed under the License is distributed on an \"AS IS\" BASIS,\n",
              "// WITHOUT WARRANTIES OR CONDITIONS OF ANY KIND, either express or implied.\n",
              "// See the License for the specific language governing permissions and\n",
              "// limitations under the License.\n",
              "\n",
              "/**\n",
              " * @fileoverview Helpers for google.colab Python module.\n",
              " */\n",
              "(function(scope) {\n",
              "function span(text, styleAttributes = {}) {\n",
              "  const element = document.createElement('span');\n",
              "  element.textContent = text;\n",
              "  for (const key of Object.keys(styleAttributes)) {\n",
              "    element.style[key] = styleAttributes[key];\n",
              "  }\n",
              "  return element;\n",
              "}\n",
              "\n",
              "// Max number of bytes which will be uploaded at a time.\n",
              "const MAX_PAYLOAD_SIZE = 100 * 1024;\n",
              "\n",
              "function _uploadFiles(inputId, outputId) {\n",
              "  const steps = uploadFilesStep(inputId, outputId);\n",
              "  const outputElement = document.getElementById(outputId);\n",
              "  // Cache steps on the outputElement to make it available for the next call\n",
              "  // to uploadFilesContinue from Python.\n",
              "  outputElement.steps = steps;\n",
              "\n",
              "  return _uploadFilesContinue(outputId);\n",
              "}\n",
              "\n",
              "// This is roughly an async generator (not supported in the browser yet),\n",
              "// where there are multiple asynchronous steps and the Python side is going\n",
              "// to poll for completion of each step.\n",
              "// This uses a Promise to block the python side on completion of each step,\n",
              "// then passes the result of the previous step as the input to the next step.\n",
              "function _uploadFilesContinue(outputId) {\n",
              "  const outputElement = document.getElementById(outputId);\n",
              "  const steps = outputElement.steps;\n",
              "\n",
              "  const next = steps.next(outputElement.lastPromiseValue);\n",
              "  return Promise.resolve(next.value.promise).then((value) => {\n",
              "    // Cache the last promise value to make it available to the next\n",
              "    // step of the generator.\n",
              "    outputElement.lastPromiseValue = value;\n",
              "    return next.value.response;\n",
              "  });\n",
              "}\n",
              "\n",
              "/**\n",
              " * Generator function which is called between each async step of the upload\n",
              " * process.\n",
              " * @param {string} inputId Element ID of the input file picker element.\n",
              " * @param {string} outputId Element ID of the output display.\n",
              " * @return {!Iterable<!Object>} Iterable of next steps.\n",
              " */\n",
              "function* uploadFilesStep(inputId, outputId) {\n",
              "  const inputElement = document.getElementById(inputId);\n",
              "  inputElement.disabled = false;\n",
              "\n",
              "  const outputElement = document.getElementById(outputId);\n",
              "  outputElement.innerHTML = '';\n",
              "\n",
              "  const pickedPromise = new Promise((resolve) => {\n",
              "    inputElement.addEventListener('change', (e) => {\n",
              "      resolve(e.target.files);\n",
              "    });\n",
              "  });\n",
              "\n",
              "  const cancel = document.createElement('button');\n",
              "  inputElement.parentElement.appendChild(cancel);\n",
              "  cancel.textContent = 'Cancel upload';\n",
              "  const cancelPromise = new Promise((resolve) => {\n",
              "    cancel.onclick = () => {\n",
              "      resolve(null);\n",
              "    };\n",
              "  });\n",
              "\n",
              "  // Wait for the user to pick the files.\n",
              "  const files = yield {\n",
              "    promise: Promise.race([pickedPromise, cancelPromise]),\n",
              "    response: {\n",
              "      action: 'starting',\n",
              "    }\n",
              "  };\n",
              "\n",
              "  cancel.remove();\n",
              "\n",
              "  // Disable the input element since further picks are not allowed.\n",
              "  inputElement.disabled = true;\n",
              "\n",
              "  if (!files) {\n",
              "    return {\n",
              "      response: {\n",
              "        action: 'complete',\n",
              "      }\n",
              "    };\n",
              "  }\n",
              "\n",
              "  for (const file of files) {\n",
              "    const li = document.createElement('li');\n",
              "    li.append(span(file.name, {fontWeight: 'bold'}));\n",
              "    li.append(span(\n",
              "        `(${file.type || 'n/a'}) - ${file.size} bytes, ` +\n",
              "        `last modified: ${\n",
              "            file.lastModifiedDate ? file.lastModifiedDate.toLocaleDateString() :\n",
              "                                    'n/a'} - `));\n",
              "    const percent = span('0% done');\n",
              "    li.appendChild(percent);\n",
              "\n",
              "    outputElement.appendChild(li);\n",
              "\n",
              "    const fileDataPromise = new Promise((resolve) => {\n",
              "      const reader = new FileReader();\n",
              "      reader.onload = (e) => {\n",
              "        resolve(e.target.result);\n",
              "      };\n",
              "      reader.readAsArrayBuffer(file);\n",
              "    });\n",
              "    // Wait for the data to be ready.\n",
              "    let fileData = yield {\n",
              "      promise: fileDataPromise,\n",
              "      response: {\n",
              "        action: 'continue',\n",
              "      }\n",
              "    };\n",
              "\n",
              "    // Use a chunked sending to avoid message size limits. See b/62115660.\n",
              "    let position = 0;\n",
              "    do {\n",
              "      const length = Math.min(fileData.byteLength - position, MAX_PAYLOAD_SIZE);\n",
              "      const chunk = new Uint8Array(fileData, position, length);\n",
              "      position += length;\n",
              "\n",
              "      const base64 = btoa(String.fromCharCode.apply(null, chunk));\n",
              "      yield {\n",
              "        response: {\n",
              "          action: 'append',\n",
              "          file: file.name,\n",
              "          data: base64,\n",
              "        },\n",
              "      };\n",
              "\n",
              "      let percentDone = fileData.byteLength === 0 ?\n",
              "          100 :\n",
              "          Math.round((position / fileData.byteLength) * 100);\n",
              "      percent.textContent = `${percentDone}% done`;\n",
              "\n",
              "    } while (position < fileData.byteLength);\n",
              "  }\n",
              "\n",
              "  // All done.\n",
              "  yield {\n",
              "    response: {\n",
              "      action: 'complete',\n",
              "    }\n",
              "  };\n",
              "}\n",
              "\n",
              "scope.google = scope.google || {};\n",
              "scope.google.colab = scope.google.colab || {};\n",
              "scope.google.colab._files = {\n",
              "  _uploadFiles,\n",
              "  _uploadFilesContinue,\n",
              "};\n",
              "})(self);\n",
              "</script> "
            ]
          },
          "metadata": {}
        },
        {
          "output_type": "stream",
          "name": "stdout",
          "text": [
            "Saving Churn_Data_File.csv to Churn_Data_File (3).csv\n"
          ]
        }
      ]
    },
    {
      "cell_type": "markdown",
      "source": [
        "###3.1 Load Dataset into a Dataframe"
      ],
      "metadata": {
        "id": "6VrzWPCJhNgr"
      }
    },
    {
      "cell_type": "code",
      "source": [
        "#load data into dataframe\n",
        "df=pd.read_csv('Churn_Data_File.csv')\n",
        "df.head(6)"
      ],
      "metadata": {
        "id": "pJnF7l59yKoQ",
        "colab": {
          "base_uri": "https://localhost:8080/",
          "height": 405
        },
        "outputId": "cf928c61-2651-49b4-a868-1adadeb68fdd"
      },
      "execution_count": null,
      "outputs": [
        {
          "output_type": "execute_result",
          "data": {
            "text/plain": [
              "   customerID        Contract PaperlessBilling              PaymentMethod  MonthlyCharges TotalCharges  gender  SeniorCitizen Partner Dependents  tenure PhoneService     MultipleLines InternetService OnlineSecurity OnlineBackup DeviceProtection TechSupport StreamingTV StreamingMovies Churn\n",
              "0  7590-VHVEG  Month-to-month              Yes           Electronic check           29.85        29.85  Female              0     Yes         No       1           No  No phone service             DSL             No          Yes               No          No          No              No    No\n",
              "1  5575-GNVDE        One year               No               Mailed check           56.95       1889.5    Male              0      No         No      34          Yes                No             DSL            Yes           No              Yes          No          No              No    No\n",
              "2  3668-QPYBK  Month-to-month              Yes               Mailed check           53.85       108.15    Male              0      No         No       2          Yes                No             DSL            Yes          Yes               No          No          No              No   Yes\n",
              "3  7795-CFOCW        One year               No  Bank transfer (automatic)           42.30      1840.75    Male              0      No         No      45           No  No phone service             DSL            Yes           No              Yes         Yes          No              No    No\n",
              "4  9237-HQITU  Month-to-month              Yes           Electronic check           70.70       151.65  Female              0      No         No       2          Yes                No     Fiber optic             No           No               No          No          No              No   Yes\n",
              "5  9305-CDSKC  Month-to-month              Yes           Electronic check           99.65        820.5  Female              0      No         No       8          Yes               Yes     Fiber optic             No           No              Yes          No         Yes             Yes   Yes"
            ],
            "text/html": [
              "\n",
              "  <div id=\"df-d178e920-7aba-4170-b8c0-e66974b0b2a3\">\n",
              "    <div class=\"colab-df-container\">\n",
              "      <div>\n",
              "<style scoped>\n",
              "    .dataframe tbody tr th:only-of-type {\n",
              "        vertical-align: middle;\n",
              "    }\n",
              "\n",
              "    .dataframe tbody tr th {\n",
              "        vertical-align: top;\n",
              "    }\n",
              "\n",
              "    .dataframe thead th {\n",
              "        text-align: right;\n",
              "    }\n",
              "</style>\n",
              "<table border=\"1\" class=\"dataframe\">\n",
              "  <thead>\n",
              "    <tr style=\"text-align: right;\">\n",
              "      <th></th>\n",
              "      <th>customerID</th>\n",
              "      <th>Contract</th>\n",
              "      <th>PaperlessBilling</th>\n",
              "      <th>PaymentMethod</th>\n",
              "      <th>MonthlyCharges</th>\n",
              "      <th>TotalCharges</th>\n",
              "      <th>gender</th>\n",
              "      <th>SeniorCitizen</th>\n",
              "      <th>Partner</th>\n",
              "      <th>Dependents</th>\n",
              "      <th>tenure</th>\n",
              "      <th>PhoneService</th>\n",
              "      <th>MultipleLines</th>\n",
              "      <th>InternetService</th>\n",
              "      <th>OnlineSecurity</th>\n",
              "      <th>OnlineBackup</th>\n",
              "      <th>DeviceProtection</th>\n",
              "      <th>TechSupport</th>\n",
              "      <th>StreamingTV</th>\n",
              "      <th>StreamingMovies</th>\n",
              "      <th>Churn</th>\n",
              "    </tr>\n",
              "  </thead>\n",
              "  <tbody>\n",
              "    <tr>\n",
              "      <th>0</th>\n",
              "      <td>7590-VHVEG</td>\n",
              "      <td>Month-to-month</td>\n",
              "      <td>Yes</td>\n",
              "      <td>Electronic check</td>\n",
              "      <td>29.85</td>\n",
              "      <td>29.85</td>\n",
              "      <td>Female</td>\n",
              "      <td>0</td>\n",
              "      <td>Yes</td>\n",
              "      <td>No</td>\n",
              "      <td>1</td>\n",
              "      <td>No</td>\n",
              "      <td>No phone service</td>\n",
              "      <td>DSL</td>\n",
              "      <td>No</td>\n",
              "      <td>Yes</td>\n",
              "      <td>No</td>\n",
              "      <td>No</td>\n",
              "      <td>No</td>\n",
              "      <td>No</td>\n",
              "      <td>No</td>\n",
              "    </tr>\n",
              "    <tr>\n",
              "      <th>1</th>\n",
              "      <td>5575-GNVDE</td>\n",
              "      <td>One year</td>\n",
              "      <td>No</td>\n",
              "      <td>Mailed check</td>\n",
              "      <td>56.95</td>\n",
              "      <td>1889.5</td>\n",
              "      <td>Male</td>\n",
              "      <td>0</td>\n",
              "      <td>No</td>\n",
              "      <td>No</td>\n",
              "      <td>34</td>\n",
              "      <td>Yes</td>\n",
              "      <td>No</td>\n",
              "      <td>DSL</td>\n",
              "      <td>Yes</td>\n",
              "      <td>No</td>\n",
              "      <td>Yes</td>\n",
              "      <td>No</td>\n",
              "      <td>No</td>\n",
              "      <td>No</td>\n",
              "      <td>No</td>\n",
              "    </tr>\n",
              "    <tr>\n",
              "      <th>2</th>\n",
              "      <td>3668-QPYBK</td>\n",
              "      <td>Month-to-month</td>\n",
              "      <td>Yes</td>\n",
              "      <td>Mailed check</td>\n",
              "      <td>53.85</td>\n",
              "      <td>108.15</td>\n",
              "      <td>Male</td>\n",
              "      <td>0</td>\n",
              "      <td>No</td>\n",
              "      <td>No</td>\n",
              "      <td>2</td>\n",
              "      <td>Yes</td>\n",
              "      <td>No</td>\n",
              "      <td>DSL</td>\n",
              "      <td>Yes</td>\n",
              "      <td>Yes</td>\n",
              "      <td>No</td>\n",
              "      <td>No</td>\n",
              "      <td>No</td>\n",
              "      <td>No</td>\n",
              "      <td>Yes</td>\n",
              "    </tr>\n",
              "    <tr>\n",
              "      <th>3</th>\n",
              "      <td>7795-CFOCW</td>\n",
              "      <td>One year</td>\n",
              "      <td>No</td>\n",
              "      <td>Bank transfer (automatic)</td>\n",
              "      <td>42.30</td>\n",
              "      <td>1840.75</td>\n",
              "      <td>Male</td>\n",
              "      <td>0</td>\n",
              "      <td>No</td>\n",
              "      <td>No</td>\n",
              "      <td>45</td>\n",
              "      <td>No</td>\n",
              "      <td>No phone service</td>\n",
              "      <td>DSL</td>\n",
              "      <td>Yes</td>\n",
              "      <td>No</td>\n",
              "      <td>Yes</td>\n",
              "      <td>Yes</td>\n",
              "      <td>No</td>\n",
              "      <td>No</td>\n",
              "      <td>No</td>\n",
              "    </tr>\n",
              "    <tr>\n",
              "      <th>4</th>\n",
              "      <td>9237-HQITU</td>\n",
              "      <td>Month-to-month</td>\n",
              "      <td>Yes</td>\n",
              "      <td>Electronic check</td>\n",
              "      <td>70.70</td>\n",
              "      <td>151.65</td>\n",
              "      <td>Female</td>\n",
              "      <td>0</td>\n",
              "      <td>No</td>\n",
              "      <td>No</td>\n",
              "      <td>2</td>\n",
              "      <td>Yes</td>\n",
              "      <td>No</td>\n",
              "      <td>Fiber optic</td>\n",
              "      <td>No</td>\n",
              "      <td>No</td>\n",
              "      <td>No</td>\n",
              "      <td>No</td>\n",
              "      <td>No</td>\n",
              "      <td>No</td>\n",
              "      <td>Yes</td>\n",
              "    </tr>\n",
              "    <tr>\n",
              "      <th>5</th>\n",
              "      <td>9305-CDSKC</td>\n",
              "      <td>Month-to-month</td>\n",
              "      <td>Yes</td>\n",
              "      <td>Electronic check</td>\n",
              "      <td>99.65</td>\n",
              "      <td>820.5</td>\n",
              "      <td>Female</td>\n",
              "      <td>0</td>\n",
              "      <td>No</td>\n",
              "      <td>No</td>\n",
              "      <td>8</td>\n",
              "      <td>Yes</td>\n",
              "      <td>Yes</td>\n",
              "      <td>Fiber optic</td>\n",
              "      <td>No</td>\n",
              "      <td>No</td>\n",
              "      <td>Yes</td>\n",
              "      <td>No</td>\n",
              "      <td>Yes</td>\n",
              "      <td>Yes</td>\n",
              "      <td>Yes</td>\n",
              "    </tr>\n",
              "  </tbody>\n",
              "</table>\n",
              "</div>\n",
              "      <button class=\"colab-df-convert\" onclick=\"convertToInteractive('df-d178e920-7aba-4170-b8c0-e66974b0b2a3')\"\n",
              "              title=\"Convert this dataframe to an interactive table.\"\n",
              "              style=\"display:none;\">\n",
              "        \n",
              "  <svg xmlns=\"http://www.w3.org/2000/svg\" height=\"24px\"viewBox=\"0 0 24 24\"\n",
              "       width=\"24px\">\n",
              "    <path d=\"M0 0h24v24H0V0z\" fill=\"none\"/>\n",
              "    <path d=\"M18.56 5.44l.94 2.06.94-2.06 2.06-.94-2.06-.94-.94-2.06-.94 2.06-2.06.94zm-11 1L8.5 8.5l.94-2.06 2.06-.94-2.06-.94L8.5 2.5l-.94 2.06-2.06.94zm10 10l.94 2.06.94-2.06 2.06-.94-2.06-.94-.94-2.06-.94 2.06-2.06.94z\"/><path d=\"M17.41 7.96l-1.37-1.37c-.4-.4-.92-.59-1.43-.59-.52 0-1.04.2-1.43.59L10.3 9.45l-7.72 7.72c-.78.78-.78 2.05 0 2.83L4 21.41c.39.39.9.59 1.41.59.51 0 1.02-.2 1.41-.59l7.78-7.78 2.81-2.81c.8-.78.8-2.07 0-2.86zM5.41 20L4 18.59l7.72-7.72 1.47 1.35L5.41 20z\"/>\n",
              "  </svg>\n",
              "      </button>\n",
              "      \n",
              "  <style>\n",
              "    .colab-df-container {\n",
              "      display:flex;\n",
              "      flex-wrap:wrap;\n",
              "      gap: 12px;\n",
              "    }\n",
              "\n",
              "    .colab-df-convert {\n",
              "      background-color: #E8F0FE;\n",
              "      border: none;\n",
              "      border-radius: 50%;\n",
              "      cursor: pointer;\n",
              "      display: none;\n",
              "      fill: #1967D2;\n",
              "      height: 32px;\n",
              "      padding: 0 0 0 0;\n",
              "      width: 32px;\n",
              "    }\n",
              "\n",
              "    .colab-df-convert:hover {\n",
              "      background-color: #E2EBFA;\n",
              "      box-shadow: 0px 1px 2px rgba(60, 64, 67, 0.3), 0px 1px 3px 1px rgba(60, 64, 67, 0.15);\n",
              "      fill: #174EA6;\n",
              "    }\n",
              "\n",
              "    [theme=dark] .colab-df-convert {\n",
              "      background-color: #3B4455;\n",
              "      fill: #D2E3FC;\n",
              "    }\n",
              "\n",
              "    [theme=dark] .colab-df-convert:hover {\n",
              "      background-color: #434B5C;\n",
              "      box-shadow: 0px 1px 3px 1px rgba(0, 0, 0, 0.15);\n",
              "      filter: drop-shadow(0px 1px 2px rgba(0, 0, 0, 0.3));\n",
              "      fill: #FFFFFF;\n",
              "    }\n",
              "  </style>\n",
              "\n",
              "      <script>\n",
              "        const buttonEl =\n",
              "          document.querySelector('#df-d178e920-7aba-4170-b8c0-e66974b0b2a3 button.colab-df-convert');\n",
              "        buttonEl.style.display =\n",
              "          google.colab.kernel.accessAllowed ? 'block' : 'none';\n",
              "\n",
              "        async function convertToInteractive(key) {\n",
              "          const element = document.querySelector('#df-d178e920-7aba-4170-b8c0-e66974b0b2a3');\n",
              "          const dataTable =\n",
              "            await google.colab.kernel.invokeFunction('convertToInteractive',\n",
              "                                                     [key], {});\n",
              "          if (!dataTable) return;\n",
              "\n",
              "          const docLinkHtml = 'Like what you see? Visit the ' +\n",
              "            '<a target=\"_blank\" href=https://colab.research.google.com/notebooks/data_table.ipynb>data table notebook</a>'\n",
              "            + ' to learn more about interactive tables.';\n",
              "          element.innerHTML = '';\n",
              "          dataTable['output_type'] = 'display_data';\n",
              "          await google.colab.output.renderOutput(dataTable, element);\n",
              "          const docLink = document.createElement('div');\n",
              "          docLink.innerHTML = docLinkHtml;\n",
              "          element.appendChild(docLink);\n",
              "        }\n",
              "      </script>\n",
              "    </div>\n",
              "  </div>\n",
              "  "
            ]
          },
          "metadata": {},
          "execution_count": 69
        }
      ]
    },
    {
      "cell_type": "markdown",
      "source": [
        "###3.2 Show number of columns & rows"
      ],
      "metadata": {
        "id": "CKJrmdMShsD9"
      }
    },
    {
      "cell_type": "code",
      "source": [
        "#show the number of rows & columns\n",
        "df.shape"
      ],
      "metadata": {
        "id": "kQia0566yqGU",
        "colab": {
          "base_uri": "https://localhost:8080/"
        },
        "outputId": "d8440159-83fb-4f8d-dd73-3e231d049421"
      },
      "execution_count": null,
      "outputs": [
        {
          "output_type": "execute_result",
          "data": {
            "text/plain": [
              "(7043, 21)"
            ]
          },
          "metadata": {},
          "execution_count": 70
        }
      ]
    },
    {
      "cell_type": "markdown",
      "source": [
        "There are 7,043 rows (customers) with 21 columns (predictor variables) in this dataset\n"
      ],
      "metadata": {
        "id": "K9Dbpa5fy6Hl"
      }
    },
    {
      "cell_type": "markdown",
      "source": [
        "###3.3 Show all Columns"
      ],
      "metadata": {
        "id": "BS7t84SShd3F"
      }
    },
    {
      "cell_type": "code",
      "source": [
        "#show titles of all columns\n",
        "df.columns.values"
      ],
      "metadata": {
        "id": "_J5eifxuzB6W",
        "colab": {
          "base_uri": "https://localhost:8080/"
        },
        "outputId": "0f5fe04f-af24-4afe-ab20-39775f796c54"
      },
      "execution_count": null,
      "outputs": [
        {
          "output_type": "execute_result",
          "data": {
            "text/plain": [
              "array(['customerID', 'Contract', 'PaperlessBilling', 'PaymentMethod',\n",
              "       'MonthlyCharges', 'TotalCharges', 'gender', 'SeniorCitizen',\n",
              "       'Partner', 'Dependents', 'tenure', 'PhoneService', 'MultipleLines',\n",
              "       'InternetService', 'OnlineSecurity', 'OnlineBackup',\n",
              "       'DeviceProtection', 'TechSupport', 'StreamingTV',\n",
              "       'StreamingMovies', 'Churn'], dtype=object)"
            ]
          },
          "metadata": {},
          "execution_count": 71
        }
      ]
    },
    {
      "cell_type": "markdown",
      "source": [
        "Some of the columns seem irrelevant to the needed data analysis such as customerID i.e. customer ID does not play a role in predicting whether or not a customer is likely to churn"
      ],
      "metadata": {
        "id": "J0tInh9ZzLXq"
      }
    },
    {
      "cell_type": "markdown",
      "source": [
        "##4. Data Exploration & Cleaning"
      ],
      "metadata": {
        "id": "muEZ8HiMhvpc"
      }
    },
    {
      "cell_type": "markdown",
      "source": [
        "The Data Exploration and Cleaning section focuses on understanding the dataset and preparing it for further analysis. This section encompasses several subsections, including checking for data types, handling missing/null and N/A values, and removing unnecessary columns, to ensure the dataset is of high quality, accurate, complete, and suitable for subsequent analyses."
      ],
      "metadata": {
        "id": "oZnWpVjNzi9u"
      }
    },
    {
      "cell_type": "markdown",
      "source": [
        "###4.1 Data Types of Dataset Columns"
      ],
      "metadata": {
        "id": "QDRlIHjzik18"
      }
    },
    {
      "cell_type": "markdown",
      "source": [
        "This subsection examines the data types of variables within the dataset. It identifies the types of variables present, such as numerical (integer, float) or categorical (string, boolean). Understanding the data types helps determine appropriate analysis techniques and identify any inconsistencies or data type conversions needed.\n",
        "\n",
        "Missing, null or N/A values within the dataset are addressed. It includes techniques such as identifying the extent of missingness, imputation methods (mean, median, mode), or deletion strategies to handle missing values. Dealing with missing values ensures the dataset's completeness and prevents biases in subsequent analyses."
      ],
      "metadata": {
        "id": "G8Gnn80LFMeW"
      }
    },
    {
      "cell_type": "code",
      "source": [
        "#display data types of dataset columns\n",
        "df.dtypes"
      ],
      "metadata": {
        "id": "3mTSKj6s1TmP",
        "colab": {
          "base_uri": "https://localhost:8080/"
        },
        "outputId": "0709a094-253a-48cd-f098-ad9ea7b13fe7"
      },
      "execution_count": null,
      "outputs": [
        {
          "output_type": "execute_result",
          "data": {
            "text/plain": [
              "customerID           object\n",
              "Contract             object\n",
              "PaperlessBilling     object\n",
              "PaymentMethod        object\n",
              "MonthlyCharges      float64\n",
              "TotalCharges         object\n",
              "gender               object\n",
              "SeniorCitizen         int64\n",
              "Partner              object\n",
              "Dependents           object\n",
              "tenure                int64\n",
              "PhoneService         object\n",
              "MultipleLines        object\n",
              "InternetService      object\n",
              "OnlineSecurity       object\n",
              "OnlineBackup         object\n",
              "DeviceProtection     object\n",
              "TechSupport          object\n",
              "StreamingTV          object\n",
              "StreamingMovies      object\n",
              "Churn                object\n",
              "dtype: object"
            ]
          },
          "metadata": {},
          "execution_count": 72
        }
      ]
    },
    {
      "cell_type": "markdown",
      "source": [
        "The total charges and monthly charges should have the same data type. Since the total charges data type is object type, while the monthly charges data type is float64. Total charges column should be checked! Let's check the values of total charges column..."
      ],
      "metadata": {
        "id": "WUogqG9c2i_o"
      }
    },
    {
      "cell_type": "markdown",
      "source": [
        "####4.1.1 Checking values in Total Charges Column"
      ],
      "metadata": {
        "id": "abSIgPGbi6mH"
      }
    },
    {
      "cell_type": "code",
      "source": [
        "#display values of Total Charges Column\n",
        "df.TotalCharges.values"
      ],
      "metadata": {
        "id": "X2QUH-2b3b2b",
        "colab": {
          "base_uri": "https://localhost:8080/"
        },
        "outputId": "3a4824fe-56d9-495f-b69c-d9e159fb6e67"
      },
      "execution_count": null,
      "outputs": [
        {
          "output_type": "execute_result",
          "data": {
            "text/plain": [
              "array(['29.85', '1889.5', '108.15', ..., '346.45', '306.6', '6844.5'],\n",
              "      dtype=object)"
            ]
          },
          "metadata": {},
          "execution_count": 73
        }
      ]
    },
    {
      "cell_type": "markdown",
      "source": [
        "Since the data points are listed with single quotes ''; they are considered as strings although they are numeric values.\n",
        "\n",
        "Hence, they should be converted from string to numeric as follows:"
      ],
      "metadata": {
        "id": "0Ov51IZv3ohi"
      }
    },
    {
      "cell_type": "code",
      "source": [
        "#convert values from string to numeric for all cells in Total Charges Column\n",
        "pd.to_numeric(df.TotalCharges,errors='coerce')"
      ],
      "metadata": {
        "id": "6UbR91MQ3p00",
        "colab": {
          "base_uri": "https://localhost:8080/"
        },
        "outputId": "e02be9e8-ace9-4aea-8061-5d53818221c9"
      },
      "execution_count": null,
      "outputs": [
        {
          "output_type": "execute_result",
          "data": {
            "text/plain": [
              "0         29.85\n",
              "1       1889.50\n",
              "2        108.15\n",
              "3       1840.75\n",
              "4        151.65\n",
              "         ...   \n",
              "7038    1990.50\n",
              "7039    7362.90\n",
              "7040     346.45\n",
              "7041     306.60\n",
              "7042    6844.50\n",
              "Name: TotalCharges, Length: 7043, dtype: float64"
            ]
          },
          "metadata": {},
          "execution_count": 74
        }
      ]
    },
    {
      "cell_type": "markdown",
      "source": [
        "**Important Note:**\n",
        "\n",
        "At first, we got an error from running the code as (pd.to_numeric(df.TotalCharges)) since some of the cells in this column are empty.\n",
        "\n",
        "This issue is resolved by adding (errors='coerce') within our code to force conversion of all cells from string to numeric!\n",
        "\n",
        "Now that all of our values are numeric, let's address the null/missing values in this column..."
      ],
      "metadata": {
        "id": "y_XgYGIp35k6"
      }
    },
    {
      "cell_type": "markdown",
      "source": [
        "####4.1.2 Addressing the Null/Missing Values in Total Charges Column"
      ],
      "metadata": {
        "id": "mgS_XYbNjE62"
      }
    },
    {
      "cell_type": "code",
      "source": [
        "#display rows that have null/missing values in the Total Charges Column\n",
        "df[pd.to_numeric(df.TotalCharges,errors='coerce').isnull()]"
      ],
      "metadata": {
        "id": "9h1d2eRd4vZ7",
        "colab": {
          "base_uri": "https://localhost:8080/",
          "height": 649
        },
        "outputId": "c7bf2d4c-4b77-43bd-ff4a-6e55f6fb4067"
      },
      "execution_count": null,
      "outputs": [
        {
          "output_type": "execute_result",
          "data": {
            "text/plain": [
              "      customerID  Contract PaperlessBilling              PaymentMethod  MonthlyCharges TotalCharges  gender  SeniorCitizen Partner Dependents  tenure PhoneService     MultipleLines InternetService       OnlineSecurity         OnlineBackup     DeviceProtection          TechSupport          StreamingTV      StreamingMovies Churn\n",
              "488   4472-LVYGI  Two year              Yes  Bank transfer (automatic)           52.55               Female              0     Yes        Yes       0           No  No phone service             DSL                  Yes                   No                  Yes                  Yes                  Yes                   No    No\n",
              "753   3115-CZMZD  Two year               No               Mailed check           20.25                 Male              0      No        Yes       0          Yes                No              No  No internet service  No internet service  No internet service  No internet service  No internet service  No internet service    No\n",
              "936   5709-LVOEQ  Two year               No               Mailed check           80.85               Female              0     Yes        Yes       0          Yes                No             DSL                  Yes                  Yes                  Yes                   No                  Yes                  Yes    No\n",
              "1082  4367-NUYAO  Two year               No               Mailed check           25.75                 Male              0     Yes        Yes       0          Yes               Yes              No  No internet service  No internet service  No internet service  No internet service  No internet service  No internet service    No\n",
              "1340  1371-DWPAZ  Two year               No    Credit card (automatic)           56.05               Female              0     Yes        Yes       0           No  No phone service             DSL                  Yes                  Yes                  Yes                  Yes                  Yes                   No    No\n",
              "3331  7644-OMVMY  Two year               No               Mailed check           19.85                 Male              0     Yes        Yes       0          Yes                No              No  No internet service  No internet service  No internet service  No internet service  No internet service  No internet service    No\n",
              "3826  3213-VVOLG  Two year               No               Mailed check           25.35                 Male              0     Yes        Yes       0          Yes               Yes              No  No internet service  No internet service  No internet service  No internet service  No internet service  No internet service    No\n",
              "4380  2520-SGTTA  Two year               No               Mailed check           20.00               Female              0     Yes        Yes       0          Yes                No              No  No internet service  No internet service  No internet service  No internet service  No internet service  No internet service    No\n",
              "5218  2923-ARZLG  One year              Yes               Mailed check           19.70                 Male              0     Yes        Yes       0          Yes                No              No  No internet service  No internet service  No internet service  No internet service  No internet service  No internet service    No\n",
              "6670  4075-WKNIU  Two year               No               Mailed check           73.35               Female              0     Yes        Yes       0          Yes               Yes             DSL                   No                  Yes                  Yes                  Yes                  Yes                   No    No\n",
              "6754  2775-SEFEE  Two year              Yes  Bank transfer (automatic)           61.90                 Male              0      No        Yes       0          Yes               Yes             DSL                  Yes                  Yes                   No                  Yes                   No                   No    No"
            ],
            "text/html": [
              "\n",
              "  <div id=\"df-074be2c1-762c-4ac6-b07b-2daab91c98f5\">\n",
              "    <div class=\"colab-df-container\">\n",
              "      <div>\n",
              "<style scoped>\n",
              "    .dataframe tbody tr th:only-of-type {\n",
              "        vertical-align: middle;\n",
              "    }\n",
              "\n",
              "    .dataframe tbody tr th {\n",
              "        vertical-align: top;\n",
              "    }\n",
              "\n",
              "    .dataframe thead th {\n",
              "        text-align: right;\n",
              "    }\n",
              "</style>\n",
              "<table border=\"1\" class=\"dataframe\">\n",
              "  <thead>\n",
              "    <tr style=\"text-align: right;\">\n",
              "      <th></th>\n",
              "      <th>customerID</th>\n",
              "      <th>Contract</th>\n",
              "      <th>PaperlessBilling</th>\n",
              "      <th>PaymentMethod</th>\n",
              "      <th>MonthlyCharges</th>\n",
              "      <th>TotalCharges</th>\n",
              "      <th>gender</th>\n",
              "      <th>SeniorCitizen</th>\n",
              "      <th>Partner</th>\n",
              "      <th>Dependents</th>\n",
              "      <th>tenure</th>\n",
              "      <th>PhoneService</th>\n",
              "      <th>MultipleLines</th>\n",
              "      <th>InternetService</th>\n",
              "      <th>OnlineSecurity</th>\n",
              "      <th>OnlineBackup</th>\n",
              "      <th>DeviceProtection</th>\n",
              "      <th>TechSupport</th>\n",
              "      <th>StreamingTV</th>\n",
              "      <th>StreamingMovies</th>\n",
              "      <th>Churn</th>\n",
              "    </tr>\n",
              "  </thead>\n",
              "  <tbody>\n",
              "    <tr>\n",
              "      <th>488</th>\n",
              "      <td>4472-LVYGI</td>\n",
              "      <td>Two year</td>\n",
              "      <td>Yes</td>\n",
              "      <td>Bank transfer (automatic)</td>\n",
              "      <td>52.55</td>\n",
              "      <td></td>\n",
              "      <td>Female</td>\n",
              "      <td>0</td>\n",
              "      <td>Yes</td>\n",
              "      <td>Yes</td>\n",
              "      <td>0</td>\n",
              "      <td>No</td>\n",
              "      <td>No phone service</td>\n",
              "      <td>DSL</td>\n",
              "      <td>Yes</td>\n",
              "      <td>No</td>\n",
              "      <td>Yes</td>\n",
              "      <td>Yes</td>\n",
              "      <td>Yes</td>\n",
              "      <td>No</td>\n",
              "      <td>No</td>\n",
              "    </tr>\n",
              "    <tr>\n",
              "      <th>753</th>\n",
              "      <td>3115-CZMZD</td>\n",
              "      <td>Two year</td>\n",
              "      <td>No</td>\n",
              "      <td>Mailed check</td>\n",
              "      <td>20.25</td>\n",
              "      <td></td>\n",
              "      <td>Male</td>\n",
              "      <td>0</td>\n",
              "      <td>No</td>\n",
              "      <td>Yes</td>\n",
              "      <td>0</td>\n",
              "      <td>Yes</td>\n",
              "      <td>No</td>\n",
              "      <td>No</td>\n",
              "      <td>No internet service</td>\n",
              "      <td>No internet service</td>\n",
              "      <td>No internet service</td>\n",
              "      <td>No internet service</td>\n",
              "      <td>No internet service</td>\n",
              "      <td>No internet service</td>\n",
              "      <td>No</td>\n",
              "    </tr>\n",
              "    <tr>\n",
              "      <th>936</th>\n",
              "      <td>5709-LVOEQ</td>\n",
              "      <td>Two year</td>\n",
              "      <td>No</td>\n",
              "      <td>Mailed check</td>\n",
              "      <td>80.85</td>\n",
              "      <td></td>\n",
              "      <td>Female</td>\n",
              "      <td>0</td>\n",
              "      <td>Yes</td>\n",
              "      <td>Yes</td>\n",
              "      <td>0</td>\n",
              "      <td>Yes</td>\n",
              "      <td>No</td>\n",
              "      <td>DSL</td>\n",
              "      <td>Yes</td>\n",
              "      <td>Yes</td>\n",
              "      <td>Yes</td>\n",
              "      <td>No</td>\n",
              "      <td>Yes</td>\n",
              "      <td>Yes</td>\n",
              "      <td>No</td>\n",
              "    </tr>\n",
              "    <tr>\n",
              "      <th>1082</th>\n",
              "      <td>4367-NUYAO</td>\n",
              "      <td>Two year</td>\n",
              "      <td>No</td>\n",
              "      <td>Mailed check</td>\n",
              "      <td>25.75</td>\n",
              "      <td></td>\n",
              "      <td>Male</td>\n",
              "      <td>0</td>\n",
              "      <td>Yes</td>\n",
              "      <td>Yes</td>\n",
              "      <td>0</td>\n",
              "      <td>Yes</td>\n",
              "      <td>Yes</td>\n",
              "      <td>No</td>\n",
              "      <td>No internet service</td>\n",
              "      <td>No internet service</td>\n",
              "      <td>No internet service</td>\n",
              "      <td>No internet service</td>\n",
              "      <td>No internet service</td>\n",
              "      <td>No internet service</td>\n",
              "      <td>No</td>\n",
              "    </tr>\n",
              "    <tr>\n",
              "      <th>1340</th>\n",
              "      <td>1371-DWPAZ</td>\n",
              "      <td>Two year</td>\n",
              "      <td>No</td>\n",
              "      <td>Credit card (automatic)</td>\n",
              "      <td>56.05</td>\n",
              "      <td></td>\n",
              "      <td>Female</td>\n",
              "      <td>0</td>\n",
              "      <td>Yes</td>\n",
              "      <td>Yes</td>\n",
              "      <td>0</td>\n",
              "      <td>No</td>\n",
              "      <td>No phone service</td>\n",
              "      <td>DSL</td>\n",
              "      <td>Yes</td>\n",
              "      <td>Yes</td>\n",
              "      <td>Yes</td>\n",
              "      <td>Yes</td>\n",
              "      <td>Yes</td>\n",
              "      <td>No</td>\n",
              "      <td>No</td>\n",
              "    </tr>\n",
              "    <tr>\n",
              "      <th>3331</th>\n",
              "      <td>7644-OMVMY</td>\n",
              "      <td>Two year</td>\n",
              "      <td>No</td>\n",
              "      <td>Mailed check</td>\n",
              "      <td>19.85</td>\n",
              "      <td></td>\n",
              "      <td>Male</td>\n",
              "      <td>0</td>\n",
              "      <td>Yes</td>\n",
              "      <td>Yes</td>\n",
              "      <td>0</td>\n",
              "      <td>Yes</td>\n",
              "      <td>No</td>\n",
              "      <td>No</td>\n",
              "      <td>No internet service</td>\n",
              "      <td>No internet service</td>\n",
              "      <td>No internet service</td>\n",
              "      <td>No internet service</td>\n",
              "      <td>No internet service</td>\n",
              "      <td>No internet service</td>\n",
              "      <td>No</td>\n",
              "    </tr>\n",
              "    <tr>\n",
              "      <th>3826</th>\n",
              "      <td>3213-VVOLG</td>\n",
              "      <td>Two year</td>\n",
              "      <td>No</td>\n",
              "      <td>Mailed check</td>\n",
              "      <td>25.35</td>\n",
              "      <td></td>\n",
              "      <td>Male</td>\n",
              "      <td>0</td>\n",
              "      <td>Yes</td>\n",
              "      <td>Yes</td>\n",
              "      <td>0</td>\n",
              "      <td>Yes</td>\n",
              "      <td>Yes</td>\n",
              "      <td>No</td>\n",
              "      <td>No internet service</td>\n",
              "      <td>No internet service</td>\n",
              "      <td>No internet service</td>\n",
              "      <td>No internet service</td>\n",
              "      <td>No internet service</td>\n",
              "      <td>No internet service</td>\n",
              "      <td>No</td>\n",
              "    </tr>\n",
              "    <tr>\n",
              "      <th>4380</th>\n",
              "      <td>2520-SGTTA</td>\n",
              "      <td>Two year</td>\n",
              "      <td>No</td>\n",
              "      <td>Mailed check</td>\n",
              "      <td>20.00</td>\n",
              "      <td></td>\n",
              "      <td>Female</td>\n",
              "      <td>0</td>\n",
              "      <td>Yes</td>\n",
              "      <td>Yes</td>\n",
              "      <td>0</td>\n",
              "      <td>Yes</td>\n",
              "      <td>No</td>\n",
              "      <td>No</td>\n",
              "      <td>No internet service</td>\n",
              "      <td>No internet service</td>\n",
              "      <td>No internet service</td>\n",
              "      <td>No internet service</td>\n",
              "      <td>No internet service</td>\n",
              "      <td>No internet service</td>\n",
              "      <td>No</td>\n",
              "    </tr>\n",
              "    <tr>\n",
              "      <th>5218</th>\n",
              "      <td>2923-ARZLG</td>\n",
              "      <td>One year</td>\n",
              "      <td>Yes</td>\n",
              "      <td>Mailed check</td>\n",
              "      <td>19.70</td>\n",
              "      <td></td>\n",
              "      <td>Male</td>\n",
              "      <td>0</td>\n",
              "      <td>Yes</td>\n",
              "      <td>Yes</td>\n",
              "      <td>0</td>\n",
              "      <td>Yes</td>\n",
              "      <td>No</td>\n",
              "      <td>No</td>\n",
              "      <td>No internet service</td>\n",
              "      <td>No internet service</td>\n",
              "      <td>No internet service</td>\n",
              "      <td>No internet service</td>\n",
              "      <td>No internet service</td>\n",
              "      <td>No internet service</td>\n",
              "      <td>No</td>\n",
              "    </tr>\n",
              "    <tr>\n",
              "      <th>6670</th>\n",
              "      <td>4075-WKNIU</td>\n",
              "      <td>Two year</td>\n",
              "      <td>No</td>\n",
              "      <td>Mailed check</td>\n",
              "      <td>73.35</td>\n",
              "      <td></td>\n",
              "      <td>Female</td>\n",
              "      <td>0</td>\n",
              "      <td>Yes</td>\n",
              "      <td>Yes</td>\n",
              "      <td>0</td>\n",
              "      <td>Yes</td>\n",
              "      <td>Yes</td>\n",
              "      <td>DSL</td>\n",
              "      <td>No</td>\n",
              "      <td>Yes</td>\n",
              "      <td>Yes</td>\n",
              "      <td>Yes</td>\n",
              "      <td>Yes</td>\n",
              "      <td>No</td>\n",
              "      <td>No</td>\n",
              "    </tr>\n",
              "    <tr>\n",
              "      <th>6754</th>\n",
              "      <td>2775-SEFEE</td>\n",
              "      <td>Two year</td>\n",
              "      <td>Yes</td>\n",
              "      <td>Bank transfer (automatic)</td>\n",
              "      <td>61.90</td>\n",
              "      <td></td>\n",
              "      <td>Male</td>\n",
              "      <td>0</td>\n",
              "      <td>No</td>\n",
              "      <td>Yes</td>\n",
              "      <td>0</td>\n",
              "      <td>Yes</td>\n",
              "      <td>Yes</td>\n",
              "      <td>DSL</td>\n",
              "      <td>Yes</td>\n",
              "      <td>Yes</td>\n",
              "      <td>No</td>\n",
              "      <td>Yes</td>\n",
              "      <td>No</td>\n",
              "      <td>No</td>\n",
              "      <td>No</td>\n",
              "    </tr>\n",
              "  </tbody>\n",
              "</table>\n",
              "</div>\n",
              "      <button class=\"colab-df-convert\" onclick=\"convertToInteractive('df-074be2c1-762c-4ac6-b07b-2daab91c98f5')\"\n",
              "              title=\"Convert this dataframe to an interactive table.\"\n",
              "              style=\"display:none;\">\n",
              "        \n",
              "  <svg xmlns=\"http://www.w3.org/2000/svg\" height=\"24px\"viewBox=\"0 0 24 24\"\n",
              "       width=\"24px\">\n",
              "    <path d=\"M0 0h24v24H0V0z\" fill=\"none\"/>\n",
              "    <path d=\"M18.56 5.44l.94 2.06.94-2.06 2.06-.94-2.06-.94-.94-2.06-.94 2.06-2.06.94zm-11 1L8.5 8.5l.94-2.06 2.06-.94-2.06-.94L8.5 2.5l-.94 2.06-2.06.94zm10 10l.94 2.06.94-2.06 2.06-.94-2.06-.94-.94-2.06-.94 2.06-2.06.94z\"/><path d=\"M17.41 7.96l-1.37-1.37c-.4-.4-.92-.59-1.43-.59-.52 0-1.04.2-1.43.59L10.3 9.45l-7.72 7.72c-.78.78-.78 2.05 0 2.83L4 21.41c.39.39.9.59 1.41.59.51 0 1.02-.2 1.41-.59l7.78-7.78 2.81-2.81c.8-.78.8-2.07 0-2.86zM5.41 20L4 18.59l7.72-7.72 1.47 1.35L5.41 20z\"/>\n",
              "  </svg>\n",
              "      </button>\n",
              "      \n",
              "  <style>\n",
              "    .colab-df-container {\n",
              "      display:flex;\n",
              "      flex-wrap:wrap;\n",
              "      gap: 12px;\n",
              "    }\n",
              "\n",
              "    .colab-df-convert {\n",
              "      background-color: #E8F0FE;\n",
              "      border: none;\n",
              "      border-radius: 50%;\n",
              "      cursor: pointer;\n",
              "      display: none;\n",
              "      fill: #1967D2;\n",
              "      height: 32px;\n",
              "      padding: 0 0 0 0;\n",
              "      width: 32px;\n",
              "    }\n",
              "\n",
              "    .colab-df-convert:hover {\n",
              "      background-color: #E2EBFA;\n",
              "      box-shadow: 0px 1px 2px rgba(60, 64, 67, 0.3), 0px 1px 3px 1px rgba(60, 64, 67, 0.15);\n",
              "      fill: #174EA6;\n",
              "    }\n",
              "\n",
              "    [theme=dark] .colab-df-convert {\n",
              "      background-color: #3B4455;\n",
              "      fill: #D2E3FC;\n",
              "    }\n",
              "\n",
              "    [theme=dark] .colab-df-convert:hover {\n",
              "      background-color: #434B5C;\n",
              "      box-shadow: 0px 1px 3px 1px rgba(0, 0, 0, 0.15);\n",
              "      filter: drop-shadow(0px 1px 2px rgba(0, 0, 0, 0.3));\n",
              "      fill: #FFFFFF;\n",
              "    }\n",
              "  </style>\n",
              "\n",
              "      <script>\n",
              "        const buttonEl =\n",
              "          document.querySelector('#df-074be2c1-762c-4ac6-b07b-2daab91c98f5 button.colab-df-convert');\n",
              "        buttonEl.style.display =\n",
              "          google.colab.kernel.accessAllowed ? 'block' : 'none';\n",
              "\n",
              "        async function convertToInteractive(key) {\n",
              "          const element = document.querySelector('#df-074be2c1-762c-4ac6-b07b-2daab91c98f5');\n",
              "          const dataTable =\n",
              "            await google.colab.kernel.invokeFunction('convertToInteractive',\n",
              "                                                     [key], {});\n",
              "          if (!dataTable) return;\n",
              "\n",
              "          const docLinkHtml = 'Like what you see? Visit the ' +\n",
              "            '<a target=\"_blank\" href=https://colab.research.google.com/notebooks/data_table.ipynb>data table notebook</a>'\n",
              "            + ' to learn more about interactive tables.';\n",
              "          element.innerHTML = '';\n",
              "          dataTable['output_type'] = 'display_data';\n",
              "          await google.colab.output.renderOutput(dataTable, element);\n",
              "          const docLink = document.createElement('div');\n",
              "          docLink.innerHTML = docLinkHtml;\n",
              "          element.appendChild(docLink);\n",
              "        }\n",
              "      </script>\n",
              "    </div>\n",
              "  </div>\n",
              "  "
            ]
          },
          "metadata": {},
          "execution_count": 75
        }
      ]
    },
    {
      "cell_type": "markdown",
      "source": [
        "Now, we want to know, how many rows are missing the Total Charges value so we run the below code:"
      ],
      "metadata": {
        "id": "Mod3zhif49h4"
      }
    },
    {
      "cell_type": "code",
      "source": [
        "#display how many rows are missing the Total Charges Value\n",
        "df[pd.to_numeric(df.TotalCharges,errors='coerce').isnull()].shape"
      ],
      "metadata": {
        "id": "5A6uHR7-5iaI",
        "colab": {
          "base_uri": "https://localhost:8080/"
        },
        "outputId": "46879c90-f3fa-4726-88f0-c9c27970f622"
      },
      "execution_count": null,
      "outputs": [
        {
          "output_type": "execute_result",
          "data": {
            "text/plain": [
              "(11, 21)"
            ]
          },
          "metadata": {},
          "execution_count": 76
        }
      ]
    },
    {
      "cell_type": "markdown",
      "source": [
        "11 rows (customers) have the total charges value missing (empty cells).\n",
        "\n",
        "There are different ways to deal with missing values in datasets but we choose to drop these rows since the dataset is large and 11 rows will not have that much of a big effect on our data. We are dropping these rows to make sure our dataset is clean and error-free and to ensure it does not impact the accuracy of our model.\n",
        "\n",
        "In order to drop the rows with missing values, we create a new data frame and we run the below code:"
      ],
      "metadata": {
        "id": "XV_DZqlu5xm_"
      }
    },
    {
      "cell_type": "code",
      "source": [
        "#dropping the rows with empty cells in the Total Charges Column & creating a new dataset (df1)\n",
        "df1=df[df.TotalCharges!=' ']\n",
        "df1.shape"
      ],
      "metadata": {
        "id": "0NjxnWFl6P_a",
        "colab": {
          "base_uri": "https://localhost:8080/"
        },
        "outputId": "377c8cd1-48b5-4a03-a28b-36a6b7fa8e29"
      },
      "execution_count": null,
      "outputs": [
        {
          "output_type": "execute_result",
          "data": {
            "text/plain": [
              "(7032, 21)"
            ]
          },
          "metadata": {},
          "execution_count": 77
        }
      ]
    },
    {
      "cell_type": "markdown",
      "source": [
        "Our new dataset includes 7,032 rows (customers) and 21 columns (predictor variables).\n",
        "\n",
        "To ensure that the actions taken to detect and remove missing values are the suitable actions to fix the issue with this the Total Charges column, we will run the old code again on the updated data frame but without the (errors='coerce') part as follows:"
      ],
      "metadata": {
        "id": "6AHXC3oa6rKX"
      }
    },
    {
      "cell_type": "markdown",
      "source": [
        "**Converting Total Charges Column Values into Numeric Values**"
      ],
      "metadata": {
        "id": "0BJa-xqGjVFv"
      }
    },
    {
      "cell_type": "code",
      "source": [
        "#convert values from string to numeric for all cells in Total Charges Column in the new dataframe df1\n",
        "pd.to_numeric(df1.TotalCharges)"
      ],
      "metadata": {
        "id": "nCUkXyco6uuU",
        "colab": {
          "base_uri": "https://localhost:8080/"
        },
        "outputId": "42199da1-a64f-4411-d26d-859eed16b015"
      },
      "execution_count": null,
      "outputs": [
        {
          "output_type": "execute_result",
          "data": {
            "text/plain": [
              "0         29.85\n",
              "1       1889.50\n",
              "2        108.15\n",
              "3       1840.75\n",
              "4        151.65\n",
              "         ...   \n",
              "7038    1990.50\n",
              "7039    7362.90\n",
              "7040     346.45\n",
              "7041     306.60\n",
              "7042    6844.50\n",
              "Name: TotalCharges, Length: 7032, dtype: float64"
            ]
          },
          "metadata": {},
          "execution_count": 78
        }
      ]
    },
    {
      "cell_type": "markdown",
      "source": [
        "Since the issue was resolved with this column, now we can convert the data into numeric as follows:"
      ],
      "metadata": {
        "id": "lxFml-oF64FQ"
      }
    },
    {
      "cell_type": "code",
      "source": [
        "#after removing null/missing value rows, convert from object to numeric values in the new dataframe df1\n",
        "df1.TotalCharges=pd.to_numeric(df1.TotalCharges)"
      ],
      "metadata": {
        "id": "gXd63HGz64y_",
        "colab": {
          "base_uri": "https://localhost:8080/"
        },
        "outputId": "d2ef0990-3473-423d-8a37-8e97f573e615"
      },
      "execution_count": null,
      "outputs": [
        {
          "output_type": "stream",
          "name": "stderr",
          "text": [
            "<ipython-input-79-6621c3e7ffff>:2: SettingWithCopyWarning:\n",
            "\n",
            "\n",
            "A value is trying to be set on a copy of a slice from a DataFrame.\n",
            "Try using .loc[row_indexer,col_indexer] = value instead\n",
            "\n",
            "See the caveats in the documentation: https://pandas.pydata.org/pandas-docs/stable/user_guide/indexing.html#returning-a-view-versus-a-copy\n",
            "\n"
          ]
        }
      ]
    },
    {
      "cell_type": "code",
      "source": [
        "#display values of Total Charges Column in the new dataframe df1\n",
        "df1.TotalCharges.values"
      ],
      "metadata": {
        "id": "nGT3Yzej75jR",
        "colab": {
          "base_uri": "https://localhost:8080/"
        },
        "outputId": "04d2d895-7905-4325-929f-35ce76bf7ee8"
      },
      "execution_count": null,
      "outputs": [
        {
          "output_type": "execute_result",
          "data": {
            "text/plain": [
              "array([  29.85, 1889.5 ,  108.15, ...,  346.45,  306.6 , 6844.5 ])"
            ]
          },
          "metadata": {},
          "execution_count": 80
        }
      ]
    },
    {
      "cell_type": "markdown",
      "source": [
        "Since the data points are no longer listed with single quotes ''; it is confirmed that they are numeric values."
      ],
      "metadata": {
        "id": "5owUPY2K8Ee-"
      }
    },
    {
      "cell_type": "code",
      "source": [
        "#display data types of dataset columns in the new dataframe df1\n",
        "df1.dtypes"
      ],
      "metadata": {
        "id": "hOfOMB5d8SUu",
        "colab": {
          "base_uri": "https://localhost:8080/"
        },
        "outputId": "680b1d58-64ad-4112-f108-fd714c0531e2"
      },
      "execution_count": null,
      "outputs": [
        {
          "output_type": "execute_result",
          "data": {
            "text/plain": [
              "customerID           object\n",
              "Contract             object\n",
              "PaperlessBilling     object\n",
              "PaymentMethod        object\n",
              "MonthlyCharges      float64\n",
              "TotalCharges        float64\n",
              "gender               object\n",
              "SeniorCitizen         int64\n",
              "Partner              object\n",
              "Dependents           object\n",
              "tenure                int64\n",
              "PhoneService         object\n",
              "MultipleLines        object\n",
              "InternetService      object\n",
              "OnlineSecurity       object\n",
              "OnlineBackup         object\n",
              "DeviceProtection     object\n",
              "TechSupport          object\n",
              "StreamingTV          object\n",
              "StreamingMovies      object\n",
              "Churn                object\n",
              "dtype: object"
            ]
          },
          "metadata": {},
          "execution_count": 81
        }
      ]
    },
    {
      "cell_type": "markdown",
      "source": [
        "Now, the Total Charges column has a data type of float64, just like the Monthly Charges Column"
      ],
      "metadata": {
        "id": "95DXuKfP8Wfo"
      }
    },
    {
      "cell_type": "markdown",
      "source": [
        "####4.1.3 Addressing the N/A values in the Dataset"
      ],
      "metadata": {
        "id": "Aq1MpP6SiW2j"
      }
    },
    {
      "cell_type": "code",
      "source": [
        "#count number of cells having N/A values in the new dataframe df1\n",
        "df1.isna().sum()"
      ],
      "metadata": {
        "id": "2N_ZNTcJ_R4P",
        "colab": {
          "base_uri": "https://localhost:8080/"
        },
        "outputId": "6d0d01f0-5c88-48c7-e19c-6e066c3812a8"
      },
      "execution_count": null,
      "outputs": [
        {
          "output_type": "execute_result",
          "data": {
            "text/plain": [
              "customerID          0\n",
              "Contract            0\n",
              "PaperlessBilling    0\n",
              "PaymentMethod       0\n",
              "MonthlyCharges      0\n",
              "TotalCharges        0\n",
              "gender              0\n",
              "SeniorCitizen       0\n",
              "Partner             0\n",
              "Dependents          0\n",
              "tenure              0\n",
              "PhoneService        0\n",
              "MultipleLines       0\n",
              "InternetService     0\n",
              "OnlineSecurity      0\n",
              "OnlineBackup        0\n",
              "DeviceProtection    0\n",
              "TechSupport         0\n",
              "StreamingTV         0\n",
              "StreamingMovies     0\n",
              "Churn               0\n",
              "dtype: int64"
            ]
          },
          "metadata": {},
          "execution_count": 82
        }
      ]
    },
    {
      "cell_type": "markdown",
      "source": [
        "There are no columns that have N/A values in our dataset. Therefore, no cleaning is needed."
      ],
      "metadata": {
        "id": "w2B_4njl_YVF"
      }
    },
    {
      "cell_type": "markdown",
      "source": [
        "###4.2 Removing Unnecessary Columns from the Dataset"
      ],
      "metadata": {
        "id": "BrcV0cJtj_VS"
      }
    },
    {
      "cell_type": "markdown",
      "source": [
        "This subsection focuses on identifying and removing unnecessary columns from the dataset. It involves assessing the relevance and significance of each column to the analysis objectives. Columns that contain redundant, irrelevant, or duplicated information are removed, streamlining the dataset and reducing dimensionality."
      ],
      "metadata": {
        "id": "_hdfumedFqRh"
      }
    },
    {
      "cell_type": "markdown",
      "source": [
        "The first column that shows the sequential number of each customer (from 0 to 7043) was removed manually using Microsoft Excel.\n",
        "\n",
        "As for the remainder columns, the column \"CustomerID\" seems irrelevant to our data analysis. Hence, we use the below code to drop this column:"
      ],
      "metadata": {
        "id": "hCsbyyeo9XzQ"
      }
    },
    {
      "cell_type": "code",
      "source": [
        "#remove customerID column from new dataframe df1\n",
        "df1.drop('customerID', axis='columns', inplace =True)"
      ],
      "metadata": {
        "id": "r3xb4xyF-D60",
        "colab": {
          "base_uri": "https://localhost:8080/"
        },
        "outputId": "a6889d0a-0e44-48e2-ef11-bfcc8c09a659"
      },
      "execution_count": null,
      "outputs": [
        {
          "output_type": "stream",
          "name": "stderr",
          "text": [
            "<ipython-input-83-ca47f918abc2>:2: SettingWithCopyWarning:\n",
            "\n",
            "\n",
            "A value is trying to be set on a copy of a slice from a DataFrame\n",
            "\n",
            "See the caveats in the documentation: https://pandas.pydata.org/pandas-docs/stable/user_guide/indexing.html#returning-a-view-versus-a-copy\n",
            "\n"
          ]
        }
      ]
    },
    {
      "cell_type": "code",
      "source": [
        "#show first few rows of the new dataframe df1\n",
        "df1.head()"
      ],
      "metadata": {
        "id": "owlMVX1J-sdE",
        "colab": {
          "base_uri": "https://localhost:8080/",
          "height": 339
        },
        "outputId": "0e399e1f-be83-41a5-c244-ad5c30019baf"
      },
      "execution_count": null,
      "outputs": [
        {
          "output_type": "execute_result",
          "data": {
            "text/plain": [
              "         Contract PaperlessBilling              PaymentMethod  MonthlyCharges  TotalCharges  gender  SeniorCitizen Partner Dependents  tenure PhoneService     MultipleLines InternetService OnlineSecurity OnlineBackup DeviceProtection TechSupport StreamingTV StreamingMovies Churn\n",
              "0  Month-to-month              Yes           Electronic check           29.85         29.85  Female              0     Yes         No       1           No  No phone service             DSL             No          Yes               No          No          No              No    No\n",
              "1        One year               No               Mailed check           56.95       1889.50    Male              0      No         No      34          Yes                No             DSL            Yes           No              Yes          No          No              No    No\n",
              "2  Month-to-month              Yes               Mailed check           53.85        108.15    Male              0      No         No       2          Yes                No             DSL            Yes          Yes               No          No          No              No   Yes\n",
              "3        One year               No  Bank transfer (automatic)           42.30       1840.75    Male              0      No         No      45           No  No phone service             DSL            Yes           No              Yes         Yes          No              No    No\n",
              "4  Month-to-month              Yes           Electronic check           70.70        151.65  Female              0      No         No       2          Yes                No     Fiber optic             No           No               No          No          No              No   Yes"
            ],
            "text/html": [
              "\n",
              "  <div id=\"df-9ea5cf2d-23ec-4448-997e-8bfdcd1c9773\">\n",
              "    <div class=\"colab-df-container\">\n",
              "      <div>\n",
              "<style scoped>\n",
              "    .dataframe tbody tr th:only-of-type {\n",
              "        vertical-align: middle;\n",
              "    }\n",
              "\n",
              "    .dataframe tbody tr th {\n",
              "        vertical-align: top;\n",
              "    }\n",
              "\n",
              "    .dataframe thead th {\n",
              "        text-align: right;\n",
              "    }\n",
              "</style>\n",
              "<table border=\"1\" class=\"dataframe\">\n",
              "  <thead>\n",
              "    <tr style=\"text-align: right;\">\n",
              "      <th></th>\n",
              "      <th>Contract</th>\n",
              "      <th>PaperlessBilling</th>\n",
              "      <th>PaymentMethod</th>\n",
              "      <th>MonthlyCharges</th>\n",
              "      <th>TotalCharges</th>\n",
              "      <th>gender</th>\n",
              "      <th>SeniorCitizen</th>\n",
              "      <th>Partner</th>\n",
              "      <th>Dependents</th>\n",
              "      <th>tenure</th>\n",
              "      <th>PhoneService</th>\n",
              "      <th>MultipleLines</th>\n",
              "      <th>InternetService</th>\n",
              "      <th>OnlineSecurity</th>\n",
              "      <th>OnlineBackup</th>\n",
              "      <th>DeviceProtection</th>\n",
              "      <th>TechSupport</th>\n",
              "      <th>StreamingTV</th>\n",
              "      <th>StreamingMovies</th>\n",
              "      <th>Churn</th>\n",
              "    </tr>\n",
              "  </thead>\n",
              "  <tbody>\n",
              "    <tr>\n",
              "      <th>0</th>\n",
              "      <td>Month-to-month</td>\n",
              "      <td>Yes</td>\n",
              "      <td>Electronic check</td>\n",
              "      <td>29.85</td>\n",
              "      <td>29.85</td>\n",
              "      <td>Female</td>\n",
              "      <td>0</td>\n",
              "      <td>Yes</td>\n",
              "      <td>No</td>\n",
              "      <td>1</td>\n",
              "      <td>No</td>\n",
              "      <td>No phone service</td>\n",
              "      <td>DSL</td>\n",
              "      <td>No</td>\n",
              "      <td>Yes</td>\n",
              "      <td>No</td>\n",
              "      <td>No</td>\n",
              "      <td>No</td>\n",
              "      <td>No</td>\n",
              "      <td>No</td>\n",
              "    </tr>\n",
              "    <tr>\n",
              "      <th>1</th>\n",
              "      <td>One year</td>\n",
              "      <td>No</td>\n",
              "      <td>Mailed check</td>\n",
              "      <td>56.95</td>\n",
              "      <td>1889.50</td>\n",
              "      <td>Male</td>\n",
              "      <td>0</td>\n",
              "      <td>No</td>\n",
              "      <td>No</td>\n",
              "      <td>34</td>\n",
              "      <td>Yes</td>\n",
              "      <td>No</td>\n",
              "      <td>DSL</td>\n",
              "      <td>Yes</td>\n",
              "      <td>No</td>\n",
              "      <td>Yes</td>\n",
              "      <td>No</td>\n",
              "      <td>No</td>\n",
              "      <td>No</td>\n",
              "      <td>No</td>\n",
              "    </tr>\n",
              "    <tr>\n",
              "      <th>2</th>\n",
              "      <td>Month-to-month</td>\n",
              "      <td>Yes</td>\n",
              "      <td>Mailed check</td>\n",
              "      <td>53.85</td>\n",
              "      <td>108.15</td>\n",
              "      <td>Male</td>\n",
              "      <td>0</td>\n",
              "      <td>No</td>\n",
              "      <td>No</td>\n",
              "      <td>2</td>\n",
              "      <td>Yes</td>\n",
              "      <td>No</td>\n",
              "      <td>DSL</td>\n",
              "      <td>Yes</td>\n",
              "      <td>Yes</td>\n",
              "      <td>No</td>\n",
              "      <td>No</td>\n",
              "      <td>No</td>\n",
              "      <td>No</td>\n",
              "      <td>Yes</td>\n",
              "    </tr>\n",
              "    <tr>\n",
              "      <th>3</th>\n",
              "      <td>One year</td>\n",
              "      <td>No</td>\n",
              "      <td>Bank transfer (automatic)</td>\n",
              "      <td>42.30</td>\n",
              "      <td>1840.75</td>\n",
              "      <td>Male</td>\n",
              "      <td>0</td>\n",
              "      <td>No</td>\n",
              "      <td>No</td>\n",
              "      <td>45</td>\n",
              "      <td>No</td>\n",
              "      <td>No phone service</td>\n",
              "      <td>DSL</td>\n",
              "      <td>Yes</td>\n",
              "      <td>No</td>\n",
              "      <td>Yes</td>\n",
              "      <td>Yes</td>\n",
              "      <td>No</td>\n",
              "      <td>No</td>\n",
              "      <td>No</td>\n",
              "    </tr>\n",
              "    <tr>\n",
              "      <th>4</th>\n",
              "      <td>Month-to-month</td>\n",
              "      <td>Yes</td>\n",
              "      <td>Electronic check</td>\n",
              "      <td>70.70</td>\n",
              "      <td>151.65</td>\n",
              "      <td>Female</td>\n",
              "      <td>0</td>\n",
              "      <td>No</td>\n",
              "      <td>No</td>\n",
              "      <td>2</td>\n",
              "      <td>Yes</td>\n",
              "      <td>No</td>\n",
              "      <td>Fiber optic</td>\n",
              "      <td>No</td>\n",
              "      <td>No</td>\n",
              "      <td>No</td>\n",
              "      <td>No</td>\n",
              "      <td>No</td>\n",
              "      <td>No</td>\n",
              "      <td>Yes</td>\n",
              "    </tr>\n",
              "  </tbody>\n",
              "</table>\n",
              "</div>\n",
              "      <button class=\"colab-df-convert\" onclick=\"convertToInteractive('df-9ea5cf2d-23ec-4448-997e-8bfdcd1c9773')\"\n",
              "              title=\"Convert this dataframe to an interactive table.\"\n",
              "              style=\"display:none;\">\n",
              "        \n",
              "  <svg xmlns=\"http://www.w3.org/2000/svg\" height=\"24px\"viewBox=\"0 0 24 24\"\n",
              "       width=\"24px\">\n",
              "    <path d=\"M0 0h24v24H0V0z\" fill=\"none\"/>\n",
              "    <path d=\"M18.56 5.44l.94 2.06.94-2.06 2.06-.94-2.06-.94-.94-2.06-.94 2.06-2.06.94zm-11 1L8.5 8.5l.94-2.06 2.06-.94-2.06-.94L8.5 2.5l-.94 2.06-2.06.94zm10 10l.94 2.06.94-2.06 2.06-.94-2.06-.94-.94-2.06-.94 2.06-2.06.94z\"/><path d=\"M17.41 7.96l-1.37-1.37c-.4-.4-.92-.59-1.43-.59-.52 0-1.04.2-1.43.59L10.3 9.45l-7.72 7.72c-.78.78-.78 2.05 0 2.83L4 21.41c.39.39.9.59 1.41.59.51 0 1.02-.2 1.41-.59l7.78-7.78 2.81-2.81c.8-.78.8-2.07 0-2.86zM5.41 20L4 18.59l7.72-7.72 1.47 1.35L5.41 20z\"/>\n",
              "  </svg>\n",
              "      </button>\n",
              "      \n",
              "  <style>\n",
              "    .colab-df-container {\n",
              "      display:flex;\n",
              "      flex-wrap:wrap;\n",
              "      gap: 12px;\n",
              "    }\n",
              "\n",
              "    .colab-df-convert {\n",
              "      background-color: #E8F0FE;\n",
              "      border: none;\n",
              "      border-radius: 50%;\n",
              "      cursor: pointer;\n",
              "      display: none;\n",
              "      fill: #1967D2;\n",
              "      height: 32px;\n",
              "      padding: 0 0 0 0;\n",
              "      width: 32px;\n",
              "    }\n",
              "\n",
              "    .colab-df-convert:hover {\n",
              "      background-color: #E2EBFA;\n",
              "      box-shadow: 0px 1px 2px rgba(60, 64, 67, 0.3), 0px 1px 3px 1px rgba(60, 64, 67, 0.15);\n",
              "      fill: #174EA6;\n",
              "    }\n",
              "\n",
              "    [theme=dark] .colab-df-convert {\n",
              "      background-color: #3B4455;\n",
              "      fill: #D2E3FC;\n",
              "    }\n",
              "\n",
              "    [theme=dark] .colab-df-convert:hover {\n",
              "      background-color: #434B5C;\n",
              "      box-shadow: 0px 1px 3px 1px rgba(0, 0, 0, 0.15);\n",
              "      filter: drop-shadow(0px 1px 2px rgba(0, 0, 0, 0.3));\n",
              "      fill: #FFFFFF;\n",
              "    }\n",
              "  </style>\n",
              "\n",
              "      <script>\n",
              "        const buttonEl =\n",
              "          document.querySelector('#df-9ea5cf2d-23ec-4448-997e-8bfdcd1c9773 button.colab-df-convert');\n",
              "        buttonEl.style.display =\n",
              "          google.colab.kernel.accessAllowed ? 'block' : 'none';\n",
              "\n",
              "        async function convertToInteractive(key) {\n",
              "          const element = document.querySelector('#df-9ea5cf2d-23ec-4448-997e-8bfdcd1c9773');\n",
              "          const dataTable =\n",
              "            await google.colab.kernel.invokeFunction('convertToInteractive',\n",
              "                                                     [key], {});\n",
              "          if (!dataTable) return;\n",
              "\n",
              "          const docLinkHtml = 'Like what you see? Visit the ' +\n",
              "            '<a target=\"_blank\" href=https://colab.research.google.com/notebooks/data_table.ipynb>data table notebook</a>'\n",
              "            + ' to learn more about interactive tables.';\n",
              "          element.innerHTML = '';\n",
              "          dataTable['output_type'] = 'display_data';\n",
              "          await google.colab.output.renderOutput(dataTable, element);\n",
              "          const docLink = document.createElement('div');\n",
              "          docLink.innerHTML = docLinkHtml;\n",
              "          element.appendChild(docLink);\n",
              "        }\n",
              "      </script>\n",
              "    </div>\n",
              "  </div>\n",
              "  "
            ]
          },
          "metadata": {},
          "execution_count": 84
        }
      ]
    },
    {
      "cell_type": "markdown",
      "source": [
        "We notice that the customerID column is removed and to double check, we run the below code:"
      ],
      "metadata": {
        "id": "BIeRgL1V-zXw"
      }
    },
    {
      "cell_type": "code",
      "source": [
        "#show the number of rows & columns of the new dataframe df1\n",
        "df1.shape"
      ],
      "metadata": {
        "id": "_MqJ0KE8-0ky",
        "colab": {
          "base_uri": "https://localhost:8080/"
        },
        "outputId": "3fbd4e3e-82db-4f20-c419-e60fda4e3c06"
      },
      "execution_count": null,
      "outputs": [
        {
          "output_type": "execute_result",
          "data": {
            "text/plain": [
              "(7032, 20)"
            ]
          },
          "metadata": {},
          "execution_count": 85
        }
      ]
    },
    {
      "cell_type": "markdown",
      "source": [
        "The number of columns decreased from 21 to 20."
      ],
      "metadata": {
        "id": "bZRP6ySh-6_h"
      }
    },
    {
      "cell_type": "markdown",
      "source": [
        "##5. Exploratory Data Analysis (EDA)"
      ],
      "metadata": {
        "id": "PcGIRq02kJJK"
      }
    },
    {
      "cell_type": "markdown",
      "source": [
        "The Exploratory Data Analysis (EDA) section focuses on gaining insights and understanding the dataset before proceeding with further analysis. This section employs various techniques such as descriptive statistics, data visualization, outlier detection, dimension reduction, correlation analysis, and clustering.\n",
        "\n",
        "By leveraging these techniques, it explores the data's characteristics, distributions, relationships, and potential patterns in addition to uncovering valuable insights and paving the way for further analysis, modeling, and decision-making processes."
      ],
      "metadata": {
        "id": "9_-FobdtAZ49"
      }
    },
    {
      "cell_type": "markdown",
      "source": [
        "###5.1 Descriptive Statistics"
      ],
      "metadata": {
        "id": "FHP4Q4BtkUkK"
      }
    },
    {
      "cell_type": "markdown",
      "source": [
        "This subsection presents descriptive statistics to summarize the dataset's numerical variables. It includes measures of central tendency, dispersion, and distribution shape. Key statistics such as mean, median, standard deviation, and percentiles provide initial insights into the numerical features."
      ],
      "metadata": {
        "id": "5bCeEuzHCYob"
      }
    },
    {
      "cell_type": "markdown",
      "source": [
        "####5.1.1 Statistical Summary"
      ],
      "metadata": {
        "id": "2s8NpFQUnWnr"
      }
    },
    {
      "cell_type": "code",
      "source": [
        "#show discriptive statistics of new dataframe df1\n",
        "df1.describe()"
      ],
      "metadata": {
        "id": "a6-cx04eARH8",
        "colab": {
          "base_uri": "https://localhost:8080/",
          "height": 300
        },
        "outputId": "7f5b3c8a-e411-4593-dfcb-fcc52efa6edc"
      },
      "execution_count": null,
      "outputs": [
        {
          "output_type": "execute_result",
          "data": {
            "text/plain": [
              "       MonthlyCharges  TotalCharges  SeniorCitizen       tenure\n",
              "count     7032.000000   7032.000000    7032.000000  7032.000000\n",
              "mean        64.798208   2283.300441       0.162400    32.421786\n",
              "std         30.085974   2266.771362       0.368844    24.545260\n",
              "min         18.250000     18.800000       0.000000     1.000000\n",
              "25%         35.587500    401.450000       0.000000     9.000000\n",
              "50%         70.350000   1397.475000       0.000000    29.000000\n",
              "75%         89.862500   3794.737500       0.000000    55.000000\n",
              "max        118.750000   8684.800000       1.000000    72.000000"
            ],
            "text/html": [
              "\n",
              "  <div id=\"df-7e9f8061-65bb-450b-87e6-b4cde9efc0c6\">\n",
              "    <div class=\"colab-df-container\">\n",
              "      <div>\n",
              "<style scoped>\n",
              "    .dataframe tbody tr th:only-of-type {\n",
              "        vertical-align: middle;\n",
              "    }\n",
              "\n",
              "    .dataframe tbody tr th {\n",
              "        vertical-align: top;\n",
              "    }\n",
              "\n",
              "    .dataframe thead th {\n",
              "        text-align: right;\n",
              "    }\n",
              "</style>\n",
              "<table border=\"1\" class=\"dataframe\">\n",
              "  <thead>\n",
              "    <tr style=\"text-align: right;\">\n",
              "      <th></th>\n",
              "      <th>MonthlyCharges</th>\n",
              "      <th>TotalCharges</th>\n",
              "      <th>SeniorCitizen</th>\n",
              "      <th>tenure</th>\n",
              "    </tr>\n",
              "  </thead>\n",
              "  <tbody>\n",
              "    <tr>\n",
              "      <th>count</th>\n",
              "      <td>7032.000000</td>\n",
              "      <td>7032.000000</td>\n",
              "      <td>7032.000000</td>\n",
              "      <td>7032.000000</td>\n",
              "    </tr>\n",
              "    <tr>\n",
              "      <th>mean</th>\n",
              "      <td>64.798208</td>\n",
              "      <td>2283.300441</td>\n",
              "      <td>0.162400</td>\n",
              "      <td>32.421786</td>\n",
              "    </tr>\n",
              "    <tr>\n",
              "      <th>std</th>\n",
              "      <td>30.085974</td>\n",
              "      <td>2266.771362</td>\n",
              "      <td>0.368844</td>\n",
              "      <td>24.545260</td>\n",
              "    </tr>\n",
              "    <tr>\n",
              "      <th>min</th>\n",
              "      <td>18.250000</td>\n",
              "      <td>18.800000</td>\n",
              "      <td>0.000000</td>\n",
              "      <td>1.000000</td>\n",
              "    </tr>\n",
              "    <tr>\n",
              "      <th>25%</th>\n",
              "      <td>35.587500</td>\n",
              "      <td>401.450000</td>\n",
              "      <td>0.000000</td>\n",
              "      <td>9.000000</td>\n",
              "    </tr>\n",
              "    <tr>\n",
              "      <th>50%</th>\n",
              "      <td>70.350000</td>\n",
              "      <td>1397.475000</td>\n",
              "      <td>0.000000</td>\n",
              "      <td>29.000000</td>\n",
              "    </tr>\n",
              "    <tr>\n",
              "      <th>75%</th>\n",
              "      <td>89.862500</td>\n",
              "      <td>3794.737500</td>\n",
              "      <td>0.000000</td>\n",
              "      <td>55.000000</td>\n",
              "    </tr>\n",
              "    <tr>\n",
              "      <th>max</th>\n",
              "      <td>118.750000</td>\n",
              "      <td>8684.800000</td>\n",
              "      <td>1.000000</td>\n",
              "      <td>72.000000</td>\n",
              "    </tr>\n",
              "  </tbody>\n",
              "</table>\n",
              "</div>\n",
              "      <button class=\"colab-df-convert\" onclick=\"convertToInteractive('df-7e9f8061-65bb-450b-87e6-b4cde9efc0c6')\"\n",
              "              title=\"Convert this dataframe to an interactive table.\"\n",
              "              style=\"display:none;\">\n",
              "        \n",
              "  <svg xmlns=\"http://www.w3.org/2000/svg\" height=\"24px\"viewBox=\"0 0 24 24\"\n",
              "       width=\"24px\">\n",
              "    <path d=\"M0 0h24v24H0V0z\" fill=\"none\"/>\n",
              "    <path d=\"M18.56 5.44l.94 2.06.94-2.06 2.06-.94-2.06-.94-.94-2.06-.94 2.06-2.06.94zm-11 1L8.5 8.5l.94-2.06 2.06-.94-2.06-.94L8.5 2.5l-.94 2.06-2.06.94zm10 10l.94 2.06.94-2.06 2.06-.94-2.06-.94-.94-2.06-.94 2.06-2.06.94z\"/><path d=\"M17.41 7.96l-1.37-1.37c-.4-.4-.92-.59-1.43-.59-.52 0-1.04.2-1.43.59L10.3 9.45l-7.72 7.72c-.78.78-.78 2.05 0 2.83L4 21.41c.39.39.9.59 1.41.59.51 0 1.02-.2 1.41-.59l7.78-7.78 2.81-2.81c.8-.78.8-2.07 0-2.86zM5.41 20L4 18.59l7.72-7.72 1.47 1.35L5.41 20z\"/>\n",
              "  </svg>\n",
              "      </button>\n",
              "      \n",
              "  <style>\n",
              "    .colab-df-container {\n",
              "      display:flex;\n",
              "      flex-wrap:wrap;\n",
              "      gap: 12px;\n",
              "    }\n",
              "\n",
              "    .colab-df-convert {\n",
              "      background-color: #E8F0FE;\n",
              "      border: none;\n",
              "      border-radius: 50%;\n",
              "      cursor: pointer;\n",
              "      display: none;\n",
              "      fill: #1967D2;\n",
              "      height: 32px;\n",
              "      padding: 0 0 0 0;\n",
              "      width: 32px;\n",
              "    }\n",
              "\n",
              "    .colab-df-convert:hover {\n",
              "      background-color: #E2EBFA;\n",
              "      box-shadow: 0px 1px 2px rgba(60, 64, 67, 0.3), 0px 1px 3px 1px rgba(60, 64, 67, 0.15);\n",
              "      fill: #174EA6;\n",
              "    }\n",
              "\n",
              "    [theme=dark] .colab-df-convert {\n",
              "      background-color: #3B4455;\n",
              "      fill: #D2E3FC;\n",
              "    }\n",
              "\n",
              "    [theme=dark] .colab-df-convert:hover {\n",
              "      background-color: #434B5C;\n",
              "      box-shadow: 0px 1px 3px 1px rgba(0, 0, 0, 0.15);\n",
              "      filter: drop-shadow(0px 1px 2px rgba(0, 0, 0, 0.3));\n",
              "      fill: #FFFFFF;\n",
              "    }\n",
              "  </style>\n",
              "\n",
              "      <script>\n",
              "        const buttonEl =\n",
              "          document.querySelector('#df-7e9f8061-65bb-450b-87e6-b4cde9efc0c6 button.colab-df-convert');\n",
              "        buttonEl.style.display =\n",
              "          google.colab.kernel.accessAllowed ? 'block' : 'none';\n",
              "\n",
              "        async function convertToInteractive(key) {\n",
              "          const element = document.querySelector('#df-7e9f8061-65bb-450b-87e6-b4cde9efc0c6');\n",
              "          const dataTable =\n",
              "            await google.colab.kernel.invokeFunction('convertToInteractive',\n",
              "                                                     [key], {});\n",
              "          if (!dataTable) return;\n",
              "\n",
              "          const docLinkHtml = 'Like what you see? Visit the ' +\n",
              "            '<a target=\"_blank\" href=https://colab.research.google.com/notebooks/data_table.ipynb>data table notebook</a>'\n",
              "            + ' to learn more about interactive tables.';\n",
              "          element.innerHTML = '';\n",
              "          dataTable['output_type'] = 'display_data';\n",
              "          await google.colab.output.renderOutput(dataTable, element);\n",
              "          const docLink = document.createElement('div');\n",
              "          docLink.innerHTML = docLinkHtml;\n",
              "          element.appendChild(docLink);\n",
              "        }\n",
              "      </script>\n",
              "    </div>\n",
              "  </div>\n",
              "  "
            ]
          },
          "metadata": {},
          "execution_count": 86
        }
      ]
    },
    {
      "cell_type": "markdown",
      "source": [
        "Based on the above descriptive statistics of our continuous predictor variables within our dataset, the below can be observed:\n",
        "\n",
        "**Monthly Charges:**\n",
        "\n",
        "The mean monthly charge is 64.8 0USD, with a standard deviation of 30.09 USD. The minimum and maximum values are 18.25 USD and 118.75 USD, respectively. The 25th percentile indicates that 25% of the customers have a monthly charge of 35.59 USD or lower, while the 75th percentile shows that 75% of the customers have a monthly charge of 89.86 USD or lower.\n",
        "\n",
        "**Total Charges:**\n",
        "\n",
        "The mean total charge is 2,283.30 USD, with a standard deviation of 2,266.77 USD. The minimum and maximum values are 18.80 USD and 8,684.80 USD, respectively. The 25th percentile indicates that 25% of the customers have a total charge of 401.45 USD or lower, while the 75th percentile shows that 75% of the customers have a total charge of 3,794.74 USD or lower.\n",
        "\n",
        "**Tenure:**\n",
        "\n",
        "The mean tenure of customers is approximately 32.42 months, with a standard deviation of 24.55 months. The minimum tenure is 1 month, while the maximum tenure is 72 months. The 25th percentile suggests that 25% of the customers have a tenure of 9 months or lower, while the 75th percentile indicates that 75% of the customers have a tenure of 55 months or lower."
      ],
      "metadata": {
        "id": "UmOiuLxCJ-9d"
      }
    },
    {
      "cell_type": "markdown",
      "source": [
        "####5.1.2 Customer Churn Counts"
      ],
      "metadata": {
        "id": "1RmeHiiQmwff"
      }
    },
    {
      "cell_type": "code",
      "source": [
        "df1['Churn'].value_counts()"
      ],
      "metadata": {
        "id": "iQFt6mW4KscM",
        "colab": {
          "base_uri": "https://localhost:8080/"
        },
        "outputId": "7d50743f-92db-4a45-cf98-e71415d89550"
      },
      "execution_count": null,
      "outputs": [
        {
          "output_type": "execute_result",
          "data": {
            "text/plain": [
              "No     5163\n",
              "Yes    1869\n",
              "Name: Churn, dtype: int64"
            ]
          },
          "metadata": {},
          "execution_count": 87
        }
      ]
    },
    {
      "cell_type": "markdown",
      "source": [
        "This information provides insights into the churn status of customers within the dataset. The majority of customers (5,163) are categorized as \"No\" churn, indicating that they have not churned or discontinued their services. On the other hand, a smaller group of customers (1,869) is categorized as \"Yes\" churn, indicating that they have churned or discontinued their services."
      ],
      "metadata": {
        "id": "X4Fx5dp4KuNS"
      }
    },
    {
      "cell_type": "markdown",
      "source": [
        "####5.1.3 Customer Churn Percentages"
      ],
      "metadata": {
        "id": "p0Gd_hDRm0cO"
      }
    },
    {
      "cell_type": "markdown",
      "source": [
        "We will create a couple of counts first so that we can calculate the percentage of customer churn in our dataset"
      ],
      "metadata": {
        "id": "kKLJvQIXLPIT"
      }
    },
    {
      "cell_type": "code",
      "source": [
        "num_retained = df1[df1.Churn=='No'].shape[0]\n",
        "num_churned = df1[df1.Churn=='Yes'].shape[0]\n",
        "print(num_retained/ (num_retained+num_churned)* 100, '% of customers stayed with Sky One.')\n",
        "print(num_churned/ (num_retained+num_churned)* 100, '% of customers left Sky One.')"
      ],
      "metadata": {
        "id": "TNfVD_tQLQYR",
        "colab": {
          "base_uri": "https://localhost:8080/"
        },
        "outputId": "d225d4cc-302a-4bc0-b20b-eeb5ab5feaf1"
      },
      "execution_count": null,
      "outputs": [
        {
          "output_type": "stream",
          "name": "stdout",
          "text": [
            "73.42150170648463 % of customers stayed with Sky One.\n",
            "26.578498293515356 % of customers left Sky One.\n"
          ]
        }
      ]
    },
    {
      "cell_type": "markdown",
      "source": [
        "Approximately 73.42% of customers chose to stay with Sky One. This indicates that the majority of customers have not churned or discontinued their services. They have remained loyal to Sky One and continue to be active customers.\n",
        "\n",
        "Approximately 26.58% of customers have left Sky One. This implies that a portion of customers has churned or discontinued their services with the company. These customers have chosen to terminate their relationship with Sky One and may have switched to a competitor or opted for a different telecom service provider."
      ],
      "metadata": {
        "id": "On_XGCwaMCfY"
      }
    },
    {
      "cell_type": "markdown",
      "source": [
        "###5.2 Data Visualization"
      ],
      "metadata": {
        "id": "G85A7MDinzc2"
      }
    },
    {
      "cell_type": "markdown",
      "source": [
        "Data visualization techniques are employed to visually explore the dataset. This subsection utilizes various plots such as histograms, box plots, scatter plots, and bar charts to understand variable distributions, identify outliers, and discover potential relationships or patterns within the data."
      ],
      "metadata": {
        "id": "ytmzYh6PCcmX"
      }
    },
    {
      "cell_type": "markdown",
      "source": [
        "####5.2.1 Visualization of Customer Churn Counts"
      ],
      "metadata": {
        "id": "irV3D0PeomCa"
      }
    },
    {
      "cell_type": "code",
      "source": [
        "sns.countplot(data=df1, x='Churn')"
      ],
      "metadata": {
        "id": "2Z4vQxT2MjlH",
        "colab": {
          "base_uri": "https://localhost:8080/",
          "height": 466
        },
        "outputId": "de3809bc-3893-423d-91d4-947ed90b77f7"
      },
      "execution_count": null,
      "outputs": [
        {
          "output_type": "execute_result",
          "data": {
            "text/plain": [
              "<Axes: xlabel='Churn', ylabel='count'>"
            ]
          },
          "metadata": {},
          "execution_count": 89
        },
        {
          "output_type": "display_data",
          "data": {
            "text/plain": [
              "<Figure size 640x480 with 1 Axes>"
            ],
            "image/png": "[encoded data removed]"
          },
          "metadata": {}
        }
      ]
    },
    {
      "cell_type": "markdown",
      "source": [
        "This visual just gives a graphic format for the counts of churn/no churn obtained in a previous section.\n",
        "The majority of customers (5,163) are categorized as \"No\" churn, indicating that they have not churned or discontinued their services. On the other hand, a smaller group of customers (1,869) is categorized as \"Yes\" churn, indicating that they have churned or discontinued their services."
      ],
      "metadata": {
        "id": "qcdVnK5uMnxP"
      }
    },
    {
      "cell_type": "markdown",
      "source": [
        "#####5.2.1.1 Visualization of Customer Churn Counts vs. Tenure"
      ],
      "metadata": {
        "id": "3nKlvYNXrEDH"
      }
    },
    {
      "cell_type": "code",
      "source": [
        "numerical_features = ['tenure']\n",
        "fig, (ax_hist, ax_box)=plt.subplots(1,2,figsize=(28,8))\n",
        "\n",
        "df1[df1.Churn=='No'][numerical_features].hist(bins=20, color='blue', alpha=0.5,ax=ax_hist)\n",
        "df1[df1.Churn=='Yes'][numerical_features].hist(bins=20, color='orange', alpha=0.5,ax=ax_hist)\n",
        "\n",
        "sns.boxplot(x='tenure', y='Churn', data=df1, ax=ax_box)"
      ],
      "metadata": {
        "id": "9nQG54N5hHYZ",
        "colab": {
          "base_uri": "https://localhost:8080/",
          "height": 533
        },
        "outputId": "499eae1e-3588-4224-ddcd-d82e3ce11319"
      },
      "execution_count": null,
      "outputs": [
        {
          "output_type": "execute_result",
          "data": {
            "text/plain": [
              "<Axes: xlabel='tenure', ylabel='Churn'>"
            ]
          },
          "metadata": {},
          "execution_count": 90
        },
        {
          "output_type": "display_data",
          "data": {
            "text/plain": [
              "<Figure size 2800x800 with 2 Axes>"
            ],
            "image/png": "[encoded data removed]"
          },
          "metadata": {}
        }
      ]
    },
    {
      "cell_type": "markdown",
      "source": [
        "As shown in the above histogram & boxplot, the below highlights can be made:\n",
        "\n",
        "1.   Most of the customers who are staying/ not churning are the ones with the higher tenure between (65-72 months)\n",
        "\n",
        "2.   Most of the customers who are leaving/ churning are the ones with the lower tenure between (0-10 months)\n",
        "\n",
        "Hence, tenure plays a major role in our prediction model as a predictor of our target variable (Churn). Therefore, it should be **kept**."
      ],
      "metadata": {
        "id": "pgMeABbAv4F1"
      }
    },
    {
      "cell_type": "markdown",
      "source": [
        "#####5.2.1.2 Visualization of Customer Churn Counts vs. Monthly Charges"
      ],
      "metadata": {
        "id": "NhVeJpPbrRQ3"
      }
    },
    {
      "cell_type": "code",
      "source": [
        "numerical_features = ['MonthlyCharges']\n",
        "fig, (ax_hist, ax_box)=plt.subplots(1,2,figsize=(28,8))\n",
        "\n",
        "df1[df1.Churn=='No'][numerical_features].hist(bins=20, color='blue', alpha=0.5,ax=ax_hist)\n",
        "df1[df1.Churn=='Yes'][numerical_features].hist(bins=20, color='orange', alpha=0.5,ax=ax_hist)\n",
        "\n",
        "sns.boxplot(x='MonthlyCharges', y='Churn', data=df1, ax=ax_box)"
      ],
      "metadata": {
        "colab": {
          "base_uri": "https://localhost:8080/",
          "height": 532
        },
        "id": "YSUNp74zuzld",
        "outputId": "3c79d7e2-c980-4ae6-a259-ee78a83462ba"
      },
      "execution_count": null,
      "outputs": [
        {
          "output_type": "execute_result",
          "data": {
            "text/plain": [
              "<Axes: xlabel='MonthlyCharges', ylabel='Churn'>"
            ]
          },
          "metadata": {},
          "execution_count": 91
        },
        {
          "output_type": "display_data",
          "data": {
            "text/plain": [
              "<Figure size 2800x800 with 2 Axes>"
            ],
            "image/png": "[encoded data removed]"
          },
          "metadata": {}
        }
      ]
    },
    {
      "cell_type": "markdown",
      "source": [
        "As shown in the above histogram & boxplot, the below highlights can be made:\n",
        "\n",
        "1.   Most of the customers who are staying/ not churning are the ones with the least monthly charges between (less than 20 to 30 USD)\n",
        "2.   Most of customers leaving/ churning are the ones with the monthly charges ranging between 70-100\n",
        "\n",
        "Hence, monthly charges plays a major role in our prediction model as a predictor of our target variable (Churn). Therefore, it should be **kept**."
      ],
      "metadata": {
        "id": "UQwmHW2owZI-"
      }
    },
    {
      "cell_type": "markdown",
      "source": [
        "#####5.2.1.3 Visualization of Customer Churn Counts vs. Total Charges"
      ],
      "metadata": {
        "id": "9AQw_0VHrVvD"
      }
    },
    {
      "cell_type": "code",
      "source": [
        "numerical_features = ['TotalCharges']\n",
        "fig, (ax_hist, ax_box)=plt.subplots(1,2,figsize=(28,8))\n",
        "\n",
        "df1[df1.Churn=='No'][numerical_features].hist(bins=20, color='blue', alpha=0.5,ax=ax_hist)\n",
        "df1[df1.Churn=='Yes'][numerical_features].hist(bins=20, color='orange', alpha=0.5,ax=ax_hist)\n",
        "\n",
        "sns.boxplot(x='TotalCharges', y='Churn', data=df1, ax=ax_box)"
      ],
      "metadata": {
        "colab": {
          "base_uri": "https://localhost:8080/",
          "height": 532
        },
        "id": "bd1SxdwevA1R",
        "outputId": "afa5b7b6-4f9b-4282-896d-29a7774cc2cc"
      },
      "execution_count": null,
      "outputs": [
        {
          "output_type": "execute_result",
          "data": {
            "text/plain": [
              "<Axes: xlabel='TotalCharges', ylabel='Churn'>"
            ]
          },
          "metadata": {},
          "execution_count": 92
        },
        {
          "output_type": "display_data",
          "data": {
            "text/plain": [
              "<Figure size 2800x800 with 2 Axes>"
            ],
            "image/png": "[encoded data removed]"
          },
          "metadata": {}
        }
      ]
    },
    {
      "cell_type": "markdown",
      "source": [
        "As shown in the above histogram & boxplot, the below highlights can be made:\n",
        "\n",
        "1.   Most of the customers who are staying/ not churning are the ones with the least total charges (up to 400 USD)\n",
        "2.   Most of customers leaving/ churning are also located in the same range\n",
        "\n",
        "Hence, total charges does NOT seem to play a major role in our prediction model as a predictor of our target variable (Churn). Therefore, it can be **removed**."
      ],
      "metadata": {
        "id": "2_3mzLvMwpAW"
      }
    },
    {
      "cell_type": "markdown",
      "source": [
        "####5.2.2 Visualization of Customer Churn Percentages"
      ],
      "metadata": {
        "id": "hgtZq6Rdo2f2"
      }
    },
    {
      "cell_type": "code",
      "source": [
        "# Calculate value counts of 'Churn'\n",
        "churn_counts = df['Churn'].value_counts()\n",
        "\n",
        "# Plot pie chart\n",
        "churn_counts.plot.pie(autopct='%1.1f%%')\n",
        "\n",
        "# Set plot title\n",
        "plt.title('Percentages of Churn/No-Churn')\n",
        "\n",
        "# Display the chart\n",
        "plt.show()"
      ],
      "metadata": {
        "colab": {
          "base_uri": "https://localhost:8080/",
          "height": 428
        },
        "id": "8htTJmBVxnwd",
        "outputId": "d90c1123-929d-4261-b8c8-44119cb7614e"
      },
      "execution_count": null,
      "outputs": [
        {
          "output_type": "display_data",
          "data": {
            "text/plain": [
              "<Figure size 640x480 with 1 Axes>"
            ],
            "image/png": "[encoded data removed]"
          },
          "metadata": {}
        }
      ]
    },
    {
      "cell_type": "markdown",
      "source": [
        "This visual just gives a graphic format for the counts of churn/no churn obtained in a previous section.\n",
        "\n",
        "Approximately 73.42% of customers chose to stay with Sky One. This indicates that the majority of customers have not churned or discontinued their services. They have remained loyal to Sky One and continue to be active customers.\n",
        "\n",
        "Approximately 26.58% of customers have left Sky One. This implies that a portion of customers has churned or discontinued their services with the company. These customers have chosen to terminate their relationship with Sky One and may have switched to a competitor or opted for a different telecom service provider."
      ],
      "metadata": {
        "id": "lid-CZKc0Vyv"
      }
    },
    {
      "cell_type": "markdown",
      "source": [
        "#####5.2.2.1 Visualization of Customer Churn Percentages vs. Gender"
      ],
      "metadata": {
        "id": "w31_Qv9GpH-S"
      }
    },
    {
      "cell_type": "code",
      "source": [
        "# Calculate value counts of 'Gender' for churned customers\n",
        "churn_gender_counts = df1[df1['Churn'] == 'Yes']['gender'].value_counts()\n",
        "\n",
        "# Create a DataFrame with counts and genders\n",
        "churn_gender_df = pd.DataFrame({'Count': churn_gender_counts.values}, index=churn_gender_counts.index)\n",
        "\n",
        "# Plot the pie chart\n",
        "plt.pie(churn_gender_df['Count'], labels=churn_gender_df.index, autopct='%.1f%%')\n",
        "\n",
        "# Set the title of the plot\n",
        "plt.title('Percentage of Churn per Gender')\n",
        "\n",
        "# Set aspect ratio to 'equal' for a circular pie chart\n",
        "plt.axis('equal')\n",
        "\n",
        "# Display the chart\n",
        "plt.show()"
      ],
      "metadata": {
        "colab": {
          "base_uri": "https://localhost:8080/",
          "height": 435
        },
        "id": "oFhKyHlEzDJi",
        "outputId": "3d313939-7828-4131-d631-77ad455d37a5"
      },
      "execution_count": null,
      "outputs": [
        {
          "output_type": "display_data",
          "data": {
            "text/plain": [
              "<Figure size 640x480 with 1 Axes>"
            ],
            "image/png": "[encoded data removed]"
          },
          "metadata": {}
        }
      ]
    },
    {
      "cell_type": "markdown",
      "source": [
        "As shown in the above pie chart, it is observed that females and males have similar percentages of churn.\n",
        "\n",
        "Hence, gender does NOT seem to play a major role in our prediction model as a predictor of our target variable (Churn). Therefore, it can be **removed**."
      ],
      "metadata": {
        "id": "b0CW1VeP0s_x"
      }
    },
    {
      "cell_type": "markdown",
      "source": [
        "#####5.2.2.2 Visualization of Customer Churn Percentages vs. Senior Citizen"
      ],
      "metadata": {
        "id": "O0-XJ2VDpWaz"
      }
    },
    {
      "cell_type": "code",
      "source": [
        "# Calculate value counts of 'SeniorCitizen' for churned customers\n",
        "churn_senior_counts = df[df['Churn'] == 'Yes']['SeniorCitizen'].value_counts()\n",
        "\n",
        "# Create a DataFrame with counts and SeniorCitizen values\n",
        "churn_senior_df = pd.DataFrame({'Count': churn_senior_counts.values}, index=churn_senior_counts.index)\n",
        "\n",
        "# Plot the pie chart\n",
        "plt.pie(churn_senior_df['Count'], labels=churn_senior_df.index, autopct='%.1f%%')\n",
        "\n",
        "# Set the title of the plot\n",
        "plt.title('Percentage of Churn per Senior Citizen')\n",
        "\n",
        "# Set aspect ratio to 'equal' for a circular pie chart\n",
        "plt.axis('equal')\n",
        "\n",
        "# Display the chart\n",
        "plt.show()"
      ],
      "metadata": {
        "colab": {
          "base_uri": "https://localhost:8080/",
          "height": 428
        },
        "id": "KPQrMGqozdBT",
        "outputId": "b929006a-ffba-469b-f62d-30226d29bcd8"
      },
      "execution_count": null,
      "outputs": [
        {
          "output_type": "display_data",
          "data": {
            "text/plain": [
              "<Figure size 640x480 with 1 Axes>"
            ],
            "image/png": "[encoded data removed]"
          },
          "metadata": {}
        }
      ]
    },
    {
      "cell_type": "markdown",
      "source": [
        "As shown in the above pie chart, it is observed that citizens that are not senior are more likely to churn i.e. have a higher percentage of churn.\n",
        "\n",
        "Hence, senior citizen factor plays a major role in our prediction model as a predictor of our target variable (Churn). Therefore, it can be **kept**."
      ],
      "metadata": {
        "id": "8c-HTO_G0_9v"
      }
    },
    {
      "cell_type": "markdown",
      "source": [
        "#####5.2.2.3 Visualization of Customer Churn Percentages vs. Partner Presence"
      ],
      "metadata": {
        "id": "Hks_D-MqpbbG"
      }
    },
    {
      "cell_type": "code",
      "source": [
        "# Calculate value counts of 'Partner' for churned customers\n",
        "churn_partner_counts = df[df['Churn'] == 'Yes']['Partner'].value_counts()\n",
        "\n",
        "# Create a DataFrame with counts and partner presence values\n",
        "churn_partner_df = pd.DataFrame({'Count': churn_partner_counts.values}, index=churn_partner_counts.index)\n",
        "\n",
        "# Plot the pie chart\n",
        "plt.pie(churn_partner_df['Count'], labels=churn_partner_df.index, autopct='%.1f%%')\n",
        "\n",
        "# Set the title of the plot\n",
        "plt.title('Percentage of Churn per Partner Presence')\n",
        "\n",
        "# Set aspect ratio to 'equal' for a circular pie chart\n",
        "plt.axis('equal')\n",
        "\n",
        "# Display the chart\n",
        "plt.show()"
      ],
      "metadata": {
        "colab": {
          "base_uri": "https://localhost:8080/",
          "height": 428
        },
        "id": "g1u1RJP7ziLo",
        "outputId": "fe0284d7-273d-40a3-c792-0ec5f69045c7"
      },
      "execution_count": null,
      "outputs": [
        {
          "output_type": "display_data",
          "data": {
            "text/plain": [
              "<Figure size 640x480 with 1 Axes>"
            ],
            "image/png": "[encoded data removed]"
          },
          "metadata": {}
        }
      ]
    },
    {
      "cell_type": "markdown",
      "source": [
        "As shown in the above pie chart, it is observed that customers with no partner  are more likely to churn i.e. have a higher percentage of churn.\n",
        "\n",
        "Hence, partner presence plays a major role in our prediction model as a predictor of our target variable (Churn). Therefore, it can be **kept**."
      ],
      "metadata": {
        "id": "7A0ULIjS1gYq"
      }
    },
    {
      "cell_type": "markdown",
      "source": [
        "#####5.2.2.4 Visualization of Customer Churn Percentages vs. Dependents Presence"
      ],
      "metadata": {
        "id": "MqKfla94pwIO"
      }
    },
    {
      "cell_type": "code",
      "source": [
        "# Calculate value counts of 'Dependents' for churned customers\n",
        "churn_dependents_counts = df[df['Churn'] == 'Yes']['Dependents'].value_counts()\n",
        "\n",
        "# Create a DataFrame with counts and dependents presence values\n",
        "churn_dependents_df = pd.DataFrame({'Count': churn_dependents_counts.values}, index=churn_dependents_counts.index)\n",
        "\n",
        "# Plot the pie chart\n",
        "plt.pie(churn_dependents_df['Count'], labels=churn_dependents_df.index, autopct='%.1f%%')\n",
        "\n",
        "# Set the title of the plot\n",
        "plt.title('Percentage of Churn per Dependents Presence')\n",
        "\n",
        "# Set aspect ratio to 'equal' for a circular pie chart\n",
        "plt.axis('equal')\n",
        "\n",
        "# Display the chart\n",
        "plt.show()"
      ],
      "metadata": {
        "colab": {
          "base_uri": "https://localhost:8080/",
          "height": 428
        },
        "id": "HK7iZi4Azl6c",
        "outputId": "5c977830-9588-4861-a035-23232b4ce91c"
      },
      "execution_count": null,
      "outputs": [
        {
          "output_type": "display_data",
          "data": {
            "text/plain": [
              "<Figure size 640x480 with 1 Axes>"
            ],
            "image/png": "[encoded data removed]"
          },
          "metadata": {}
        }
      ]
    },
    {
      "cell_type": "markdown",
      "source": [
        "As shown in the above pie chart, it is observed that customers with no dependents are more likely to churn i.e. have a higher percentage of churn.\n",
        "\n",
        "Hence, dependents presence plays a major role in our prediction model as a predictor of our target variable (Churn). Therefore, it can be **kept**."
      ],
      "metadata": {
        "id": "p0l7fMGK1u_n"
      }
    },
    {
      "cell_type": "markdown",
      "source": [
        "#####5.2.2.5 Visualization of Customer Churn Percentages vs. Contract Type"
      ],
      "metadata": {
        "id": "GvZjaldVp94U"
      }
    },
    {
      "cell_type": "code",
      "source": [
        "# Calculate value counts of 'Contract' for churned customers\n",
        "churn_contract_counts = df1[df1['Churn'] == 'Yes']['Contract'].value_counts()\n",
        "\n",
        "# Create a DataFrame with counts and contract types\n",
        "churn_contract_df = pd.DataFrame({'Count': churn_contract_counts.values}, index=churn_contract_counts.index)\n",
        "\n",
        "# Plot the pie chart\n",
        "plt.pie(churn_contract_df['Count'], labels=churn_contract_df.index, autopct='%.1f%%')\n",
        "\n",
        "# Set the title of the plot\n",
        "plt.title('Percentage of Churn per Contract Type')\n",
        "\n",
        "# Set aspect ratio to 'equal' for a circular pie chart\n",
        "plt.axis('equal')\n",
        "\n",
        "# Display the chart\n",
        "plt.show()"
      ],
      "metadata": {
        "colab": {
          "base_uri": "https://localhost:8080/",
          "height": 428
        },
        "id": "_kmARye8zHZa",
        "outputId": "bd1db795-94a4-4cb0-cbea-959c008b1580"
      },
      "execution_count": null,
      "outputs": [
        {
          "output_type": "display_data",
          "data": {
            "text/plain": [
              "<Figure size 640x480 with 1 Axes>"
            ],
            "image/png": "[encoded data removed]"
          },
          "metadata": {}
        }
      ]
    },
    {
      "cell_type": "markdown",
      "source": [
        "As shown in the above pie chart, it is observed that customers with month-to-month contracts are more likely to churn i.e. have a higher percentage of churn.\n",
        "\n",
        "Hence, contract type plays a major role in our prediction model as a predictor of our target variable (Churn). Therefore, it can be **kept**."
      ],
      "metadata": {
        "id": "bS6F9yUs12sY"
      }
    },
    {
      "cell_type": "markdown",
      "source": [
        "#####5.2.2.6 Visualization of Customer Churn Percentages vs. Paperless Billing"
      ],
      "metadata": {
        "id": "HPv1xHxgqIuG"
      }
    },
    {
      "cell_type": "code",
      "source": [
        "# Calculate value counts of 'PaperlessBilling' for churned customers\n",
        "churn_paperless_counts = df[df['Churn'] == 'Yes']['PaperlessBilling'].value_counts()\n",
        "\n",
        "# Create a DataFrame with counts and PaperlessBilling values\n",
        "churn_paperless_df = pd.DataFrame({'Count': churn_paperless_counts.values}, index=churn_paperless_counts.index)\n",
        "\n",
        "# Plot the pie chart\n",
        "plt.pie(churn_paperless_df['Count'], labels=churn_paperless_df.index, autopct='%.1f%%')\n",
        "\n",
        "# Set the title of the plot\n",
        "plt.title('Percentage of Churn per Paperless Billing')\n",
        "\n",
        "# Set aspect ratio to 'equal' for a circular pie chart\n",
        "plt.axis('equal')\n",
        "\n",
        "# Display the chart\n",
        "plt.show()"
      ],
      "metadata": {
        "colab": {
          "base_uri": "https://localhost:8080/",
          "height": 428
        },
        "id": "KebQeCYgzTiJ",
        "outputId": "78529949-8442-4c47-f748-297a3718e934"
      },
      "execution_count": null,
      "outputs": [
        {
          "output_type": "display_data",
          "data": {
            "text/plain": [
              "<Figure size 640x480 with 1 Axes>"
            ],
            "image/png": "[encoded data removed]"
          },
          "metadata": {}
        }
      ]
    },
    {
      "cell_type": "markdown",
      "source": [
        "As shown in the above pie chart, it is observed that customers with paperless billing are more likely to churn i.e. have a higher percentage of churn.\n",
        "\n",
        "Hence, paperless billing plays a major role in our prediction model as a predictor of our target variable (Churn). Therefore, it can be **kept**."
      ],
      "metadata": {
        "id": "PePjEa3I1-cG"
      }
    },
    {
      "cell_type": "markdown",
      "source": [
        "#####5.2.2.7 Visualization of Customer Churn Percentages vs. Payment Method"
      ],
      "metadata": {
        "id": "_37THPXTqMpV"
      }
    },
    {
      "cell_type": "code",
      "source": [
        "# Calculate value counts of 'PaymentMethod' for churned customers\n",
        "churn_payment_counts = df[df['Churn'] == 'Yes']['PaymentMethod'].value_counts()\n",
        "\n",
        "# Create a DataFrame with counts and PaymentMethod values\n",
        "churn_payment_df = pd.DataFrame({'Count': churn_payment_counts.values}, index=churn_payment_counts.index)\n",
        "\n",
        "# Plot the pie chart\n",
        "plt.pie(churn_payment_df['Count'], labels=churn_payment_df.index, autopct='%.1f%%')\n",
        "\n",
        "# Set the title of the plot\n",
        "plt.title('Percentage of Churn per Payment Method')\n",
        "\n",
        "# Set aspect ratio to 'equal' for a circular pie chart\n",
        "plt.axis('equal')\n",
        "\n",
        "# Display the chart\n",
        "plt.show()"
      ],
      "metadata": {
        "colab": {
          "base_uri": "https://localhost:8080/",
          "height": 428
        },
        "id": "Q9et9YH1zYMT",
        "outputId": "68ff8433-8dbe-44fd-e4c2-bb2851b01740"
      },
      "execution_count": null,
      "outputs": [
        {
          "output_type": "display_data",
          "data": {
            "text/plain": [
              "<Figure size 640x480 with 1 Axes>"
            ],
            "image/png": "[encoded data removed]"
          },
          "metadata": {}
        }
      ]
    },
    {
      "cell_type": "markdown",
      "source": [
        "As shown in the above pie chart, it is observed that customers with the electronic check as a payment method are more likely to churn i.e. have a higher percentage of churn.\n",
        "\n",
        "Hence, payment method plays a major role in our prediction model as a predictor of our target variable (Churn). Therefore, it can be **kept**."
      ],
      "metadata": {
        "id": "22Ux1BoV2GjP"
      }
    },
    {
      "cell_type": "markdown",
      "source": [
        "#####5.2.2.8 Visualization of Customer Churn Percentages vs. Phone Service"
      ],
      "metadata": {
        "id": "nRbOu1ctqUP-"
      }
    },
    {
      "cell_type": "code",
      "source": [
        "# Calculate value counts of 'PhoneService' for churned customers\n",
        "churn_phoneservice_counts = df[df['Churn'] == 'Yes']['PhoneService'].value_counts()\n",
        "\n",
        "# Create a DataFrame with counts and PhoneService values\n",
        "churn_phoneservice_df = pd.DataFrame({'Count': churn_phoneservice_counts.values}, index=churn_phoneservice_counts.index)\n",
        "\n",
        "# Plot the pie chart\n",
        "plt.pie(churn_phoneservice_df['Count'], labels=churn_phoneservice_df.index, autopct='%.1f%%')\n",
        "\n",
        "# Set the title of the plot\n",
        "plt.title('Percentage of Churn per Phone Service')\n",
        "\n",
        "# Set aspect ratio to 'equal' for a circular pie chart\n",
        "plt.axis('equal')\n",
        "\n",
        "# Display the chart\n",
        "plt.show()"
      ],
      "metadata": {
        "colab": {
          "base_uri": "https://localhost:8080/",
          "height": 428
        },
        "id": "J4fUWbgHzq8X",
        "outputId": "d79a78d5-e022-4c8a-e1ea-8a3df8fbf623"
      },
      "execution_count": null,
      "outputs": [
        {
          "output_type": "display_data",
          "data": {
            "text/plain": [
              "<Figure size 640x480 with 1 Axes>"
            ],
            "image/png": "[encoded data removed]"
          },
          "metadata": {}
        }
      ]
    },
    {
      "cell_type": "markdown",
      "source": [
        "As shown in the above pie chart, it is observed that customers with phone service are more likely to churn i.e. have a higher percentage of churn.\n",
        "\n",
        "Hence, phone service plays a major role in our prediction model as a predictor of our target variable (Churn). Therefore, it can be **kept**."
      ],
      "metadata": {
        "id": "kFzQyYCc2Vxb"
      }
    },
    {
      "cell_type": "markdown",
      "source": [
        "#####5.2.2.9 Visualization of Customer Churn Percentages vs. Multiple Lines"
      ],
      "metadata": {
        "id": "dh-ROTACqXXl"
      }
    },
    {
      "cell_type": "code",
      "source": [
        "# Calculate value counts of 'MultipleLines' for churned customers\n",
        "churn_multiplelines_counts = df[df['Churn'] == 'Yes']['MultipleLines'].value_counts()\n",
        "\n",
        "# Create a DataFrame with counts and MultipleLines values\n",
        "churn_multiplelines_df = pd.DataFrame({'Count': churn_multiplelines_counts.values}, index=churn_multiplelines_counts.index)\n",
        "\n",
        "# Plot the pie chart\n",
        "plt.pie(churn_multiplelines_df['Count'], labels=churn_multiplelines_df.index, autopct='%.1f%%')\n",
        "\n",
        "# Set the title of the plot\n",
        "plt.title('Percentage of Churn per Multiple Lines')\n",
        "\n",
        "# Set aspect ratio to 'equal' for a circular pie chart\n",
        "plt.axis('equal')\n",
        "\n",
        "# Display the chart\n",
        "plt.show()"
      ],
      "metadata": {
        "colab": {
          "base_uri": "https://localhost:8080/",
          "height": 428
        },
        "id": "d2-B5ETJzvFG",
        "outputId": "42897650-aac4-4a6b-bb1b-32648c13ad60"
      },
      "execution_count": null,
      "outputs": [
        {
          "output_type": "display_data",
          "data": {
            "text/plain": [
              "<Figure size 640x480 with 1 Axes>"
            ],
            "image/png": "[encoded data removed]"
          },
          "metadata": {}
        }
      ]
    },
    {
      "cell_type": "markdown",
      "source": [
        "As shown in the above pie chart, it is observed that customers with multiple lines and with no multiple lines are equally likely to churn while customers with no phone service has the least likelihood of churning.\n",
        "\n",
        "Hence, multiple line factor does NOT seem to play a major role in our prediction model as a predictor of our target variable (Churn). Therefore, it can be **removed**."
      ],
      "metadata": {
        "id": "PCJAOzLs2dNQ"
      }
    },
    {
      "cell_type": "markdown",
      "source": [
        "#####5.2.2.10 Visualization of Customer Churn Percentages vs. Internet Service"
      ],
      "metadata": {
        "id": "uoUb6Q5Cqc8x"
      }
    },
    {
      "cell_type": "code",
      "source": [
        "# Calculate value counts of 'InternetService' for churned customers\n",
        "churn_internet_counts = df[df['Churn'] == 'Yes']['InternetService'].value_counts()\n",
        "\n",
        "# Create a DataFrame with counts and InternetService types\n",
        "churn_internet_df = pd.DataFrame({'Count': churn_internet_counts.values}, index=churn_internet_counts.index)\n",
        "\n",
        "# Plot the pie chart\n",
        "plt.pie(churn_internet_df['Count'], labels=churn_internet_df.index, autopct='%.1f%%')\n",
        "\n",
        "# Set the title of the plot\n",
        "plt.title('Percentage of Churn per Internet Service')\n",
        "\n",
        "# Set aspect ratio to 'equal' for a circular pie chart\n",
        "plt.axis('equal')\n",
        "\n",
        "# Display the chart\n",
        "plt.show()"
      ],
      "metadata": {
        "colab": {
          "base_uri": "https://localhost:8080/",
          "height": 428
        },
        "id": "VHn-pXqfzOjp",
        "outputId": "771d05a0-605e-48d4-ace8-ce3f51a327c8"
      },
      "execution_count": null,
      "outputs": [
        {
          "output_type": "display_data",
          "data": {
            "text/plain": [
              "<Figure size 640x480 with 1 Axes>"
            ],
            "image/png": "[encoded data removed]"
          },
          "metadata": {}
        }
      ]
    },
    {
      "cell_type": "markdown",
      "source": [
        "As shown in the above pie chart, it is observed that customers with fiber optic internet service are more likely to churn i.e. have a higher percentage of churn.\n",
        "\n",
        "Hence, internet service plays a major role in our prediction model as a predictor of our target variable (Churn). Therefore, it can be **kept**."
      ],
      "metadata": {
        "id": "N-anVpT5247Y"
      }
    },
    {
      "cell_type": "markdown",
      "source": [
        "#####5.2.2.11 Visualization of Customer Churn Percentages vs. Online Security"
      ],
      "metadata": {
        "id": "aHTlJx1gqi09"
      }
    },
    {
      "cell_type": "code",
      "source": [
        "# Calculate value counts of 'OnlineSecurity' for churned customers\n",
        "churn_onlinesecurity_counts = df[df['Churn'] == 'Yes']['OnlineSecurity'].value_counts()\n",
        "\n",
        "# Create a DataFrame with counts and OnlineSecurity values\n",
        "churn_onlinesecurity_df = pd.DataFrame({'Count': churn_onlinesecurity_counts.values}, index=churn_onlinesecurity_counts.index)\n",
        "\n",
        "# Plot the pie chart\n",
        "plt.pie(churn_onlinesecurity_df['Count'], labels=churn_onlinesecurity_df.index, autopct='%.1f%%')\n",
        "\n",
        "# Set the title of the plot\n",
        "plt.title('Percentage of Churn per Online Security')\n",
        "\n",
        "# Set aspect ratio to 'equal' for a circular pie chart\n",
        "plt.axis('equal')\n",
        "\n",
        "# Display the chart\n",
        "plt.show()"
      ],
      "metadata": {
        "colab": {
          "base_uri": "https://localhost:8080/",
          "height": 428
        },
        "id": "nojlc1TAzzgJ",
        "outputId": "15375e37-4763-4092-81cb-55f480e29cac"
      },
      "execution_count": null,
      "outputs": [
        {
          "output_type": "display_data",
          "data": {
            "text/plain": [
              "<Figure size 640x480 with 1 Axes>"
            ],
            "image/png": "[encoded data removed]"
          },
          "metadata": {}
        }
      ]
    },
    {
      "cell_type": "markdown",
      "source": [
        "As shown in the above pie chart, it is observed that customers with no online security are more likely to churn i.e. have a higher percentage of churn.\n",
        "\n",
        "Hence, online security plays a major role in our prediction model as a predictor of our target variable (Churn). Therefore, it can be **kept**."
      ],
      "metadata": {
        "id": "fL1b6UB03CwT"
      }
    },
    {
      "cell_type": "markdown",
      "source": [
        "#####5.2.2.12 Visualization of Customer Churn Percentages vs. Online Backup"
      ],
      "metadata": {
        "id": "Kj6OaFylqm7z"
      }
    },
    {
      "cell_type": "code",
      "source": [
        "# Calculate value counts of 'OnlineBackup' for churned customers\n",
        "churn_onlinebackup_counts = df[df['Churn'] == 'Yes']['OnlineBackup'].value_counts()\n",
        "\n",
        "# Create a DataFrame with counts and OnlineBackup values\n",
        "churn_onlinebackup_df = pd.DataFrame({'Count': churn_onlinebackup_counts.values}, index=churn_onlinebackup_counts.index)\n",
        "\n",
        "# Plot the pie chart\n",
        "plt.pie(churn_onlinebackup_df['Count'], labels=churn_onlinebackup_df.index, autopct='%.1f%%')\n",
        "\n",
        "# Set the title of the plot\n",
        "plt.title('Percentage of Churn per Online Backup')\n",
        "\n",
        "# Set aspect ratio to 'equal' for a circular pie chart\n",
        "plt.axis('equal')\n",
        "\n",
        "# Display the chart\n",
        "plt.show()"
      ],
      "metadata": {
        "colab": {
          "base_uri": "https://localhost:8080/",
          "height": 428
        },
        "id": "xErNryAlz3aS",
        "outputId": "4d91df7c-7fd0-431b-da65-c5b19185513a"
      },
      "execution_count": null,
      "outputs": [
        {
          "output_type": "display_data",
          "data": {
            "text/plain": [
              "<Figure size 640x480 with 1 Axes>"
            ],
            "image/png": "[encoded data removed]"
          },
          "metadata": {}
        }
      ]
    },
    {
      "cell_type": "markdown",
      "source": [
        "As shown in the above pie chart, it is observed that customers with no online backup are more likely to churn i.e. have a higher percentage of churn.\n",
        "\n",
        "Hence, online backup plays a major role in our prediction model as a predictor of our target variable (Churn). Therefore, it can be **kept**."
      ],
      "metadata": {
        "id": "3gnKU_dk3IrF"
      }
    },
    {
      "cell_type": "markdown",
      "source": [
        "#####5.2.2.13 Visualization of Customer Churn Percentages vs. Device Protection"
      ],
      "metadata": {
        "id": "AhvhFinWqsUF"
      }
    },
    {
      "cell_type": "code",
      "source": [
        "# Calculate value counts of 'DeviceProtection' for churned customers\n",
        "churn_deviceprotection_counts = df[df['Churn'] == 'Yes']['DeviceProtection'].value_counts()\n",
        "\n",
        "# Create a DataFrame with counts and DeviceProtection values\n",
        "churn_deviceprotection_df = pd.DataFrame({'Count': churn_deviceprotection_counts.values}, index=churn_deviceprotection_counts.index)\n",
        "\n",
        "# Plot the pie chart\n",
        "plt.pie(churn_deviceprotection_df['Count'], labels=churn_deviceprotection_df.index, autopct='%.1f%%')\n",
        "\n",
        "# Set the title of the plot\n",
        "plt.title('Percentage of Churn per Device Protection')\n",
        "\n",
        "# Set aspect ratio to 'equal' for a circular pie chart\n",
        "plt.axis('equal')\n",
        "\n",
        "# Display the chart\n",
        "plt.show()"
      ],
      "metadata": {
        "colab": {
          "base_uri": "https://localhost:8080/",
          "height": 428
        },
        "id": "VTJsUYVLz7lu",
        "outputId": "4341331c-0930-43fa-fd94-5c13a001a74d"
      },
      "execution_count": null,
      "outputs": [
        {
          "output_type": "display_data",
          "data": {
            "text/plain": [
              "<Figure size 640x480 with 1 Axes>"
            ],
            "image/png": "[encoded data removed]"
          },
          "metadata": {}
        }
      ]
    },
    {
      "cell_type": "markdown",
      "source": [
        "As shown in the above pie chart, it is observed that customers with no device protection are more likely to churn i.e. have a higher percentage of churn.\n",
        "\n",
        "Hence, device protection plays a major role in our prediction model as a predictor of our target variable (Churn). Therefore, it can be **kept**."
      ],
      "metadata": {
        "id": "w5Tee_X53Oe1"
      }
    },
    {
      "cell_type": "markdown",
      "source": [
        "#####5.2.2.14 Visualization of Customer Churn Percentages vs. Tech Support"
      ],
      "metadata": {
        "id": "iPf_bUxvqxKo"
      }
    },
    {
      "cell_type": "code",
      "source": [
        "# Calculate value counts of 'TechSupport' for churned customers\n",
        "churn_techsupport_counts = df[df['Churn'] == 'Yes']['TechSupport'].value_counts()\n",
        "\n",
        "# Create a DataFrame with counts and TechSupport values\n",
        "churn_techsupport_df = pd.DataFrame({'Count': churn_techsupport_counts.values}, index=churn_techsupport_counts.index)\n",
        "\n",
        "# Plot the pie chart\n",
        "plt.pie(churn_techsupport_df['Count'], labels=churn_techsupport_df.index, autopct='%.1f%%')\n",
        "\n",
        "# Set the title of the plot\n",
        "plt.title('Percentage of Churn per Tech Support')\n",
        "\n",
        "# Set aspect ratio to 'equal' for a circular pie chart\n",
        "plt.axis('equal')\n",
        "\n",
        "# Display the chart\n",
        "plt.show()"
      ],
      "metadata": {
        "colab": {
          "base_uri": "https://localhost:8080/",
          "height": 428
        },
        "id": "tHbplWRAz_CC",
        "outputId": "4db9afa8-0249-42f8-c534-0e9a8da58903"
      },
      "execution_count": null,
      "outputs": [
        {
          "output_type": "display_data",
          "data": {
            "text/plain": [
              "<Figure size 640x480 with 1 Axes>"
            ],
            "image/png": "[encoded data removed]"
          },
          "metadata": {}
        }
      ]
    },
    {
      "cell_type": "markdown",
      "source": [
        "As shown in the above pie chart, it is observed that customers with no tech support are more likely to churn i.e. have a higher percentage of churn.\n",
        "\n",
        "Hence, tech support plays a major role in our prediction model as a predictor of our target variable (Churn). Therefore, it can be **kept**."
      ],
      "metadata": {
        "id": "rOpxCGoD3VIq"
      }
    },
    {
      "cell_type": "markdown",
      "source": [
        "#####5.2.2.15 Visualization of Customer Churn Percentages vs. Streaming TV"
      ],
      "metadata": {
        "id": "1fJKQud3q1cE"
      }
    },
    {
      "cell_type": "code",
      "source": [
        "# Calculate value counts of 'StreamingTV' for churned customers\n",
        "churn_streamingtv_counts = df[df['Churn'] == 'Yes']['StreamingTV'].value_counts()\n",
        "\n",
        "# Create a DataFrame with counts and StreamingTV values\n",
        "churn_streamingtv_df = pd.DataFrame({'Count': churn_streamingtv_counts.values}, index=churn_streamingtv_counts.index)\n",
        "\n",
        "# Plot the pie chart\n",
        "plt.pie(churn_streamingtv_df['Count'], labels=churn_streamingtv_df.index, autopct='%.1f%%')\n",
        "\n",
        "# Set the title of the plot\n",
        "plt.title('Percentage of Churn per Streaming TV')\n",
        "\n",
        "# Set aspect ratio to 'equal' for a circular pie chart\n",
        "plt.axis('equal')\n",
        "\n",
        "# Display the chart\n",
        "plt.show()"
      ],
      "metadata": {
        "colab": {
          "base_uri": "https://localhost:8080/",
          "height": 433
        },
        "id": "Q7U0kedB0CQY",
        "outputId": "a1601a5c-ad53-495a-c903-cbe6ed16b33a"
      },
      "execution_count": null,
      "outputs": [
        {
          "output_type": "display_data",
          "data": {
            "text/plain": [
              "<Figure size 640x480 with 1 Axes>"
            ],
            "image/png": "[encoded data removed]"
          },
          "metadata": {}
        }
      ]
    },
    {
      "cell_type": "markdown",
      "source": [
        "As shown in the above pie chart, it is observed that customers with or without streaming TV are almost equally likely to churn while customers with no internet service has the least likelihood of churning.\n",
        "\n",
        "Hence, streaming TV factor factor does NOT seem to play a major role in our prediction model as a predictor of our target variable (Churn). Therefore, it can be **removed**."
      ],
      "metadata": {
        "id": "ugqfGAvO3g9q"
      }
    },
    {
      "cell_type": "markdown",
      "source": [
        "#####5.2.2.16 Visualization of Customer Churn Percentages vs. Streaming Movies"
      ],
      "metadata": {
        "id": "ytLe1azVq4yT"
      }
    },
    {
      "cell_type": "code",
      "source": [
        "# Calculate value counts of 'StreamingMovies' for churned customers\n",
        "churn_streamingmovies_counts = df[df['Churn'] == 'Yes']['StreamingMovies'].value_counts()\n",
        "\n",
        "# Create a DataFrame with counts and StreamingMovies values\n",
        "churn_streamingmovies_df = pd.DataFrame({'Count': churn_streamingmovies_counts.values}, index=churn_streamingmovies_counts.index)\n",
        "\n",
        "# Plot the pie chart\n",
        "plt.pie(churn_streamingmovies_df['Count'], labels=churn_streamingmovies_df.index, autopct='%.1f%%')\n",
        "\n",
        "# Set the title of the plot\n",
        "plt.title('Percentage of Churn per Streaming Movies')\n",
        "\n",
        "# Set aspect ratio to 'equal' for a circular pie chart\n",
        "plt.axis('equal')\n",
        "\n",
        "# Display the chart\n",
        "plt.show()"
      ],
      "metadata": {
        "colab": {
          "base_uri": "https://localhost:8080/",
          "height": 432
        },
        "id": "Mi7tP9wj0Ehe",
        "outputId": "e7c04984-91e4-4b93-e807-cc75c48de75b"
      },
      "execution_count": null,
      "outputs": [
        {
          "output_type": "display_data",
          "data": {
            "text/plain": [
              "<Figure size 640x480 with 1 Axes>"
            ],
            "image/png": "[encoded data removed]"
          },
          "metadata": {}
        }
      ]
    },
    {
      "cell_type": "markdown",
      "source": [
        "As shown in the above pie chart, it is observed that customers with or without streaming movies are almost equally likely to churn while customers with no internet service has the least likelihood of churning.\n",
        "\n",
        "Hence, streaming movies factor factor does NOT seem to play a major role in our prediction model as a predictor of our target variable (Churn). Therefore, it can be **removed**."
      ],
      "metadata": {
        "id": "IlJ_Ssgx4Cvu"
      }
    },
    {
      "cell_type": "markdown",
      "source": [
        "###5.3 Outlier Detection"
      ],
      "metadata": {
        "id": "Yf_ueMljrdnj"
      }
    },
    {
      "cell_type": "markdown",
      "source": [
        "Outlier detection techniques are applied to identify observations that deviate significantly from the majority of the data points.\n",
        "\n",
        "It's important to note that the term \"outlier\" is commonly associated with numerical data and refers to observations that deviate significantly from the majority of the data points.\n",
        "\n",
        "For categorical data (which is the case in our dataset), the concept of outliers is not as well-defined, so we focused on identifying rare or unexpected categories rather than outliers in the traditional sense."
      ],
      "metadata": {
        "id": "9A2UlF1dCiJV"
      }
    },
    {
      "cell_type": "code",
      "source": [
        "# Calculate value counts of the 'Churn' variable\n",
        "churn_counts = df1['Churn'].value_counts()\n",
        "\n",
        "# Set a threshold for identifying unusual categories\n",
        "threshold = 0.05\n",
        "\n",
        "# Identify unusual categories\n",
        "unusual_categories = churn_counts[churn_counts < threshold * len(df1)]\n",
        "\n",
        "# Print the unusual categories\n",
        "print(unusual_categories)"
      ],
      "metadata": {
        "colab": {
          "base_uri": "https://localhost:8080/"
        },
        "id": "A3NosG0y448z",
        "outputId": "825b5db1-abc0-42da-9dd2-c29a7ccb17e0"
      },
      "execution_count": null,
      "outputs": [
        {
          "output_type": "stream",
          "name": "stdout",
          "text": [
            "Series([], Name: Churn, dtype: int64)\n"
          ]
        }
      ]
    },
    {
      "cell_type": "markdown",
      "source": [
        "no unusual categories are found, which is also confirmed by our manual check on the CSV file outside of this environment. Hence, there are no outliers in this dataset."
      ],
      "metadata": {
        "id": "XxBhRp7n5Gh8"
      }
    },
    {
      "cell_type": "markdown",
      "source": [
        "###5.4 Correlation Analysis"
      ],
      "metadata": {
        "id": "jAWPCkUErkbf"
      }
    },
    {
      "cell_type": "markdown",
      "source": [
        "This subsection investigates the relationships between variables through correlation analysis. It mainly calculates correlation coefficients which help identify variables that exhibit significant relationships or potential multicollinearity."
      ],
      "metadata": {
        "id": "vSZ2fr5RCpoM"
      }
    },
    {
      "cell_type": "markdown",
      "source": [
        "####5.4.1 Correlation Analysis between Monthly Charges & Total Charges (Continuous Variables) - Pearson's test"
      ],
      "metadata": {
        "id": "4xBu7VdBEQTz"
      }
    },
    {
      "cell_type": "code",
      "source": [
        "# Select the two variables of interest\n",
        "monthly_charges = df1['MonthlyCharges']\n",
        "total_charges = df1['TotalCharges']\n",
        "\n",
        "# Calculate the correlation coefficient\n",
        "correlation = np.corrcoef(monthly_charges, total_charges)[0, 1]\n",
        "\n",
        "# Print the correlation coefficient\n",
        "print(\"Correlation coefficient between MonthlyCharges and TotalCharges:\", correlation)"
      ],
      "metadata": {
        "colab": {
          "base_uri": "https://localhost:8080/"
        },
        "id": "myemw0x9CnrJ",
        "outputId": "a04bf95b-dd5c-4d44-f2e9-f5fcf93c9f41"
      },
      "execution_count": null,
      "outputs": [
        {
          "output_type": "stream",
          "name": "stdout",
          "text": [
            "Correlation coefficient between MonthlyCharges and TotalCharges: 0.6510648032262027\n"
          ]
        }
      ]
    },
    {
      "cell_type": "markdown",
      "source": [
        "This indicates a moderately positive correlation between the two variables. A correlation coefficient of 0.651 suggests that there is a tendency for Monthly Charges and Total Charges to increase together, but the relationship is not extremely strong.\n",
        "\n",
        "Total Charges shall be **removed** to fulfill the assumption of no multicollinearity among independent (predictor) variables for Logistic Regression."
      ],
      "metadata": {
        "id": "W4CweumvC6n-"
      }
    },
    {
      "cell_type": "markdown",
      "source": [
        "####5.4.2 Correlation Analysis between Multiple Lines & Phone Service (Categorical Variables) - Chi-square Test"
      ],
      "metadata": {
        "id": "wy5-ccGFEaFd"
      }
    },
    {
      "cell_type": "code",
      "source": [
        "from scipy.stats import chi2_contingency\n",
        "\n",
        "# Create a contingency table of the two categorical variables\n",
        "contingency_table = pd.crosstab(df['MultipleLines'], df['PhoneService'])\n",
        "\n",
        "# Perform chi-square test of independence\n",
        "chi2, p_value, dof, expected = chi2_contingency(contingency_table)\n",
        "\n",
        "print(\"Chi-square statistic:\", chi2)\n",
        "print(\"P-value:\", p_value)"
      ],
      "metadata": {
        "colab": {
          "base_uri": "https://localhost:8080/"
        },
        "id": "9eYfuAiiDwMS",
        "outputId": "870577de-968d-437f-9d88-78111ca95157"
      },
      "execution_count": null,
      "outputs": [
        {
          "output_type": "stream",
          "name": "stdout",
          "text": [
            "Chi-square statistic: 7043.0\n",
            "P-value: 0.0\n"
          ]
        }
      ]
    },
    {
      "cell_type": "markdown",
      "source": [
        "The chi-square statistic of 7043.0 indicates the strength of the association between the variables. A higher chi-square value suggests a stronger association.\n",
        "\n",
        "The p-value of 0.0 indicates that the association between MultipleLines and PhoneService is statistically significant. Since the p-value is below the common significance level of 0.05, we can reject the null hypothesis of independence. This means that there is evidence to suggest that Multiple Lines and Phone Service are not independent and may be correlated.\n",
        "\n",
        "In summary, the results indicate that there is a significant association between MultipleLines and PhoneService, suggesting the presence of multicollinearity between these categorical variables.\n",
        "\n",
        "Multiple Lines shall be **removed** to fulfill the assumption of no multicollinearity among independent (predictor) variables for Logistic Regression."
      ],
      "metadata": {
        "id": "rDWApacYD9vn"
      }
    },
    {
      "cell_type": "markdown",
      "source": [
        "####5.4.3 Correlation Analysis between Streaming TV & Streaming Movies (Categorical Variables) - Chi-square Test"
      ],
      "metadata": {
        "id": "XwM_LlF9FnT2"
      }
    },
    {
      "cell_type": "code",
      "source": [
        "# Create a contingency table of the two categorical variables\n",
        "contingency_table = pd.crosstab(df['StreamingTV'], df['StreamingMovies'])\n",
        "\n",
        "# Perform chi-square test of independence\n",
        "chi2, p_value, dof, expected = chi2_contingency(contingency_table)\n",
        "\n",
        "print(\"Chi-square statistic:\", chi2)\n",
        "print(\"P-value:\", p_value)"
      ],
      "metadata": {
        "colab": {
          "base_uri": "https://localhost:8080/"
        },
        "id": "l9qgr9ZyFFPP",
        "outputId": "e2481432-a0b8-40a2-bf49-259cf74c7b38"
      },
      "execution_count": null,
      "outputs": [
        {
          "output_type": "stream",
          "name": "stdout",
          "text": [
            "Chi-square statistic: 8374.206314231764\n",
            "P-value: 0.0\n"
          ]
        }
      ]
    },
    {
      "cell_type": "markdown",
      "source": [
        "The chi-square statistic of 8374.2 indicates the strength of the association between the variables. A higher chi-square value suggests a stronger association.\n",
        "\n",
        "The p-value of 0.0 indicates that the association between StreamingTV & StreamingMovies is statistically significant. Since the p-value is below the common significance level of 0.05, we can reject the null hypothesis of independence. This means that there is evidence to suggest that StreamingTV & StreamingMovies are not independent and may be correlated.\n",
        "\n",
        "In summary, the results indicate that there is a significant association between StreamingTV & StreamingMovies, suggesting the presence of multicollinearity between these categorical variables.\n",
        "\n",
        "StreamingMovies shall be **removed** to fulfill the assumption of no multicollinearity among independent (predictor) variables for Logistic Regression."
      ],
      "metadata": {
        "id": "8bC3ZggcFztn"
      }
    },
    {
      "cell_type": "markdown",
      "source": [
        "**In conclusion, Total Charges, Streaming Movies & Multiple Lines will be removed from our dataset to ensure the fullfillment of no multicollinearity assumption got Logistic Regression.**"
      ],
      "metadata": {
        "id": "bdAem2FgGuSU"
      }
    },
    {
      "cell_type": "markdown",
      "source": [
        "*Before proceeding with the model development, the dataset should be encoded.*"
      ],
      "metadata": {
        "id": "SZ2h96QOJ2OC"
      }
    },
    {
      "cell_type": "code",
      "source": [
        "# Copy the original dataframe\n",
        "df_encoded = df1.copy()\n",
        "\n",
        "# Label encoding for binary categorical variables\n",
        "binary_cols = ['gender', 'SeniorCitizen', 'Partner', 'Dependents', 'PhoneService', 'PaperlessBilling', 'Churn']\n",
        "label_encoder = LabelEncoder()\n",
        "for col in binary_cols:\n",
        "    if df_encoded[col].nunique() == 2:\n",
        "        df_encoded[col] = label_encoder.fit_transform(df_encoded[col])\n",
        "\n",
        "# One-hot encoding for categorical variables with more than two levels\n",
        "categorical_cols = ['MultipleLines', 'InternetService', 'OnlineSecurity', 'OnlineBackup', 'DeviceProtection',\n",
        "                    'TechSupport', 'StreamingTV', 'StreamingMovies', 'Contract', 'PaymentMethod']\n",
        "for col in categorical_cols:\n",
        "    if df_encoded[col].nunique() > 2:\n",
        "        encoded_cols = pd.get_dummies(df_encoded[col], prefix=col)\n",
        "        df_encoded = pd.concat([df_encoded, encoded_cols], axis=1)\n",
        "        df_encoded.drop(col, axis=1, inplace=True)\n",
        "\n",
        "# Perform label encoding for the target variable\n",
        "df_encoded['Churn'] = label_encoder.fit_transform(df_encoded['Churn'])\n",
        "\n",
        "# Print the encoded dataframe\n",
        "print(df_encoded)"
      ],
      "metadata": {
        "colab": {
          "base_uri": "https://localhost:8080/"
        },
        "id": "Dt6V93XCLnmF",
        "outputId": "c2bc0c07-ec67-4fec-da5f-881ff432b221"
      },
      "execution_count": null,
      "outputs": [
        {
          "output_type": "stream",
          "name": "stdout",
          "text": [
            "      PaperlessBilling  MonthlyCharges  TotalCharges  gender  SeniorCitizen  Partner  Dependents  tenure  PhoneService  Churn  MultipleLines_No  MultipleLines_No phone service  MultipleLines_Yes  InternetService_DSL  InternetService_Fiber optic  InternetService_No  OnlineSecurity_No  OnlineSecurity_No internet service  OnlineSecurity_Yes  OnlineBackup_No  OnlineBackup_No internet service  OnlineBackup_Yes  DeviceProtection_No  DeviceProtection_No internet service  DeviceProtection_Yes  TechSupport_No  TechSupport_No internet service  TechSupport_Yes  StreamingTV_No  StreamingTV_No internet service  StreamingTV_Yes  StreamingMovies_No  StreamingMovies_No internet service  StreamingMovies_Yes  Contract_Month-to-month  Contract_One year  Contract_Two year  PaymentMethod_Bank transfer (automatic)  PaymentMethod_Credit card (automatic)  PaymentMethod_Electronic check  PaymentMethod_Mailed check\n",
            "0                    1           29.85         29.85       0              0        1           0       1             0      0                 0                               1                  0                    1                            0                   0                  1                                   0                   0                0                                 0                 1                    1                                     0                     0               1                                0                0               1                                0                0                   1                                    0                    0                        1                  0                  0                                        0                                      0                               1                           0\n",
            "1                    0           56.95       1889.50       1              0        0           0      34             1      0                 1                               0                  0                    1                            0                   0                  0                                   0                   1                1                                 0                 0                    0                                     0                     1               1                                0                0               1                                0                0                   1                                    0                    0                        0                  1                  0                                        0                                      0                               0                           1\n",
            "2                    1           53.85        108.15       1              0        0           0       2             1      1                 1                               0                  0                    1                            0                   0                  0                                   0                   1                0                                 0                 1                    1                                     0                     0               1                                0                0               1                                0                0                   1                                    0                    0                        1                  0                  0                                        0                                      0                               0                           1\n",
            "3                    0           42.30       1840.75       1              0        0           0      45             0      0                 0                               1                  0                    1                            0                   0                  0                                   0                   1                1                                 0                 0                    0                                     0                     1               0                                0                1               1                                0                0                   1                                    0                    0                        0                  1                  0                                        1                                      0                               0                           0\n",
            "4                    1           70.70        151.65       0              0        0           0       2             1      1                 1                               0                  0                    0                            1                   0                  1                                   0                   0                1                                 0                 0                    1                                     0                     0               1                                0                0               1                                0                0                   1                                    0                    0                        1                  0                  0                                        0                                      0                               1                           0\n",
            "...                ...             ...           ...     ...            ...      ...         ...     ...           ...    ...               ...                             ...                ...                  ...                          ...                 ...                ...                                 ...                 ...              ...                               ...               ...                  ...                                   ...                   ...             ...                              ...              ...             ...                              ...              ...                 ...                                  ...                  ...                      ...                ...                ...                                      ...                                    ...                             ...                         ...\n",
            "7038                 1           84.80       1990.50       1              0        1           1      24             1      0                 0                               0                  1                    1                            0                   0                  0                                   0                   1                1                                 0                 0                    0                                     0                     1               0                                0                1               0                                0                1                   0                                    0                    1                        0                  1                  0                                        0                                      0                               0                           1\n",
            "7039                 1          103.20       7362.90       0              0        1           1      72             1      0                 0                               0                  1                    0                            1                   0                  1                                   0                   0                0                                 0                 1                    0                                     0                     1               1                                0                0               0                                0                1                   0                                    0                    1                        0                  1                  0                                        0                                      1                               0                           0\n",
            "7040                 1           29.60        346.45       0              0        1           1      11             0      0                 0                               1                  0                    1                            0                   0                  0                                   0                   1                1                                 0                 0                    1                                     0                     0               1                                0                0               1                                0                0                   1                                    0                    0                        1                  0                  0                                        0                                      0                               1                           0\n",
            "7041                 1           74.40        306.60       1              1        1           0       4             1      1                 0                               0                  1                    0                            1                   0                  1                                   0                   0                1                                 0                 0                    1                                     0                     0               1                                0                0               1                                0                0                   1                                    0                    0                        1                  0                  0                                        0                                      0                               0                           1\n",
            "7042                 1          105.65       6844.50       1              0        0           0      66             1      0                 1                               0                  0                    0                            1                   0                  0                                   0                   1                1                                 0                 0                    0                                     0                     1               0                                0                1               0                                0                1                   0                                    0                    1                        0                  0                  1                                        1                                      0                               0                           0\n",
            "\n",
            "[7032 rows x 41 columns]\n"
          ]
        }
      ]
    },
    {
      "cell_type": "code",
      "source": [
        "#New Dataframe Datatypes\n",
        "df_encoded.dtypes"
      ],
      "metadata": {
        "colab": {
          "base_uri": "https://localhost:8080/"
        },
        "id": "viBcQfpAQ3nb",
        "outputId": "35a97162-530b-4245-aa66-8dad539f1c88"
      },
      "execution_count": null,
      "outputs": [
        {
          "output_type": "execute_result",
          "data": {
            "text/plain": [
              "PaperlessBilling                             int64\n",
              "MonthlyCharges                             float64\n",
              "TotalCharges                               float64\n",
              "gender                                       int64\n",
              "SeniorCitizen                                int64\n",
              "Partner                                      int64\n",
              "Dependents                                   int64\n",
              "tenure                                       int64\n",
              "PhoneService                                 int64\n",
              "Churn                                        int64\n",
              "MultipleLines_No                             uint8\n",
              "MultipleLines_No phone service               uint8\n",
              "MultipleLines_Yes                            uint8\n",
              "InternetService_DSL                          uint8\n",
              "InternetService_Fiber optic                  uint8\n",
              "InternetService_No                           uint8\n",
              "OnlineSecurity_No                            uint8\n",
              "OnlineSecurity_No internet service           uint8\n",
              "OnlineSecurity_Yes                           uint8\n",
              "OnlineBackup_No                              uint8\n",
              "OnlineBackup_No internet service             uint8\n",
              "OnlineBackup_Yes                             uint8\n",
              "DeviceProtection_No                          uint8\n",
              "DeviceProtection_No internet service         uint8\n",
              "DeviceProtection_Yes                         uint8\n",
              "TechSupport_No                               uint8\n",
              "TechSupport_No internet service              uint8\n",
              "TechSupport_Yes                              uint8\n",
              "StreamingTV_No                               uint8\n",
              "StreamingTV_No internet service              uint8\n",
              "StreamingTV_Yes                              uint8\n",
              "StreamingMovies_No                           uint8\n",
              "StreamingMovies_No internet service          uint8\n",
              "StreamingMovies_Yes                          uint8\n",
              "Contract_Month-to-month                      uint8\n",
              "Contract_One year                            uint8\n",
              "Contract_Two year                            uint8\n",
              "PaymentMethod_Bank transfer (automatic)      uint8\n",
              "PaymentMethod_Credit card (automatic)        uint8\n",
              "PaymentMethod_Electronic check               uint8\n",
              "PaymentMethod_Mailed check                   uint8\n",
              "dtype: object"
            ]
          },
          "metadata": {},
          "execution_count": 115
        }
      ]
    },
    {
      "cell_type": "markdown",
      "source": [
        "All variables are now encoded."
      ],
      "metadata": {
        "id": "kTgCdK0CRIkh"
      }
    },
    {
      "cell_type": "markdown",
      "source": [
        "##6. Model Development"
      ],
      "metadata": {
        "id": "_wIfzp6SrzSl"
      }
    },
    {
      "cell_type": "code",
      "source": [
        "# Separate the features (x) and target variable (y)\n",
        "x=df_encoded.drop('Churn', axis=1) #feature dataset\n",
        "y=df_encoded['Churn'] #target dataset\n",
        "\n",
        "# Split the data into 80% training and 20% testing\n",
        "x_train, x_test, y_train, y_test = train_test_split(x, y, test_size=0.2, random_state=42)"
      ],
      "metadata": {
        "id": "KpgvxA0IRwkz"
      },
      "execution_count": null,
      "outputs": []
    },
    {
      "cell_type": "code",
      "source": [
        "# Scale the numeric data\n",
        "# Create the scaler\n",
        "scaler = StandardScaler()\n",
        "\n",
        "# Scale the 'MonthlyCharges' and 'TotalCharges' columns on the training dataset\n",
        "x_train_scaled = x_train.copy()\n",
        "x_train_scaled[['MonthlyCharges', 'TotalCharges']] = scaler.fit_transform(x_train[['MonthlyCharges', 'TotalCharges']])\n",
        "\n",
        "x_test_scaled = x_test.copy()\n",
        "x_test_scaled[['MonthlyCharges', 'TotalCharges']] = scaler.transform(x_test[['MonthlyCharges', 'TotalCharges']])\n",
        "\n",
        "# Print the scaled training dataset\n",
        "print(x_train_scaled)\n",
        "print(x_test_scaled)"
      ],
      "metadata": {
        "colab": {
          "base_uri": "https://localhost:8080/"
        },
        "id": "TQmEvk55WHHs",
        "outputId": "6cb1c2bd-93c3-4725-b2a3-a3edeb1a75d0"
      },
      "execution_count": null,
      "outputs": [
        {
          "output_type": "stream",
          "name": "stdout",
          "text": [
            "      PaperlessBilling  MonthlyCharges  TotalCharges  gender  SeniorCitizen  Partner  Dependents  tenure  PhoneService  MultipleLines_No  MultipleLines_No phone service  MultipleLines_Yes  InternetService_DSL  InternetService_Fiber optic  InternetService_No  OnlineSecurity_No  OnlineSecurity_No internet service  OnlineSecurity_Yes  OnlineBackup_No  OnlineBackup_No internet service  OnlineBackup_Yes  DeviceProtection_No  DeviceProtection_No internet service  DeviceProtection_Yes  TechSupport_No  TechSupport_No internet service  TechSupport_Yes  StreamingTV_No  StreamingTV_No internet service  StreamingTV_Yes  StreamingMovies_No  StreamingMovies_No internet service  StreamingMovies_Yes  Contract_Month-to-month  Contract_One year  Contract_Two year  PaymentMethod_Bank transfer (automatic)  PaymentMethod_Credit card (automatic)  PaymentMethod_Electronic check  PaymentMethod_Mailed check\n",
            "6030                 1       -0.518620     -0.087908       0              0        0           0      43             0                 0                               1                  0                    1                            0                   0                  1                                   0                   0                1                                 0                 0                    0                                     0                     1               1                                0                0               0                                0                1                   0                                    0                    1                        1                  0                  0                                        1                                      0                               0                           0\n",
            "3410                 0       -0.374443     -0.921285       1              0        0           0       3             1                 1                               0                  0                    1                            0                   0                  1                                   0                   0                1                                 0                 0                    1                                     0                     0               1                                0                0               0                                0                1                   1                                    0                    0                        1                  0                  0                                        0                                      1                               0                           0\n",
            "5483                 1        0.432616      0.963781       0              0        1           0      55             1                 0                               0                  1                    0                            1                   0                  1                                   0                   0                1                                 0                 0                    0                                     0                     1               1                                0                0               1                                0                0                   1                                    0                    0                        1                  0                  0                                        0                                      0                               1                           0\n",
            "5524                 0       -0.333013      0.122920       1              0        1           1      45             1                 1                               0                  0                    1                            0                   0                  0                                   0                   1                1                                 0                 0                    1                                     0                     0               0                                0                1               1                                0                0                   1                                    0                    0                        0                  0                  1                                        1                                      0                               0                           0\n",
            "6337                 0        1.199902      1.401088       0              0        1           1      55             1                 0                               0                  1                    0                            1                   0                  0                                   0                   1                1                                 0                 0                    1                                     0                     0               1                                0                0               0                                0                1                   0                                    0                    1                        0                  1                  0                                        0                                      0                               0                           1\n",
            "...                ...             ...           ...     ...            ...      ...         ...     ...           ...               ...                             ...                ...                  ...                          ...                 ...                ...                                 ...                 ...              ...                               ...               ...                  ...                                   ...                   ...             ...                              ...              ...             ...                              ...              ...                 ...                                  ...                  ...                      ...                ...                ...                                      ...                                    ...                             ...                         ...\n",
            "3778                 0       -0.473876     -0.944001       1              0        0           0       3             1                 0                               0                  1                    1                            0                   0                  1                                   0                   0                1                                 0                 0                    1                                     0                     0               1                                0                0               1                                0                0                   1                                    0                    0                        1                  0                  0                                        1                                      0                               0                           0\n",
            "5199                 1        1.551230      1.513522       0              0        0           0      51             1                 0                               0                  1                    0                            1                   0                  1                                   0                   0                0                                 0                 1                    0                                     0                     1               0                                0                1               0                                0                1                   0                                    0                    1                        0                  1                  0                                        0                                      0                               1                           0\n",
            "5235                 1        0.545306     -0.658247       1              0        0           0       9             1                 0                               0                  1                    0                            1                   0                  0                                   0                   1                1                                 0                 0                    1                                     0                     0               1                                0                0               1                                0                0                   1                                    0                    0                        1                  0                  0                                        0                                      0                               1                           0\n",
            "5399                 0       -1.489743     -0.567911       0              0        0           0      50             1                 1                               0                  0                    0                            0                   1                  0                                   1                   0                0                                 1                 0                    0                                     1                     0               0                                1                0               0                                1                0                   0                                    1                    0                        0                  1                  0                                        1                                      0                               0                           0\n",
            "862                  1        0.296725     -0.358430       1              1        1           0      20             1                 1                               0                  0                    0                            1                   0                  1                                   0                   0                0                                 0                 1                    1                                     0                     0               1                                0                0               1                                0                0                   1                                    0                    0                        1                  0                  0                                        0                                      0                               1                           0\n",
            "\n",
            "[5625 rows x 40 columns]\n",
            "      PaperlessBilling  MonthlyCharges  TotalCharges  gender  SeniorCitizen  Partner  Dependents  tenure  PhoneService  MultipleLines_No  MultipleLines_No phone service  MultipleLines_Yes  InternetService_DSL  InternetService_Fiber optic  InternetService_No  OnlineSecurity_No  OnlineSecurity_No internet service  OnlineSecurity_Yes  OnlineBackup_No  OnlineBackup_No internet service  OnlineBackup_Yes  DeviceProtection_No  DeviceProtection_No internet service  DeviceProtection_Yes  TechSupport_No  TechSupport_No internet service  TechSupport_Yes  StreamingTV_No  StreamingTV_No internet service  StreamingTV_Yes  StreamingMovies_No  StreamingMovies_No internet service  StreamingMovies_Yes  Contract_Month-to-month  Contract_One year  Contract_Two year  PaymentMethod_Bank transfer (automatic)  PaymentMethod_Credit card (automatic)  PaymentMethod_Electronic check  PaymentMethod_Mailed check\n",
            "2481                 0       -1.315736     -0.341541       1              1        1           0      61             1                 0                               0                  1                    0                            0                   1                  0                                   1                   0                0                                 1                 0                    0                                     1                     0               0                                1                0               0                                1                0                   0                                    1                    0                        0                  0                  1                                        1                                      0                               0                           0\n",
            "6784                 0       -1.325680     -0.798916       0              0        0           0      19             1                 0                               0                  1                    0                            0                   1                  0                                   1                   0                0                                 1                 0                    0                                     1                     0               0                                1                0               0                                1                0                   0                                    1                    0                        1                  0                  0                                        1                                      0                               0                           0\n",
            "6125                 1        1.244647     -0.404569       1              0        1           0      13             1                 0                               0                  1                    0                            1                   0                  1                                   0                   0                1                                 0                 0                    0                                     0                     1               1                                0                0               0                                0                1                   0                                    0                    1                        1                  0                  0                                        0                                      1                               0                           0\n",
            "3052                 1       -0.319756     -0.107975       1              0        1           0      37             1                 0                               0                  1                    1                            0                   0                  0                                   0                   1                1                                 0                 0                    1                                     0                     0               1                                0                0               1                                0                0                   1                                    0                    0                        1                  0                  0                                        0                                      0                               0                           1\n",
            "4099                 0       -1.168245     -0.933316       0              0        0           0       6             0                 0                               1                  0                    1                            0                   0                  0                                   0                   1                1                                 0                 0                    1                                     0                     0               1                                0                0               1                                0                0                   1                                    0                    0                        1                  0                  0                                        1                                      0                               0                           0\n",
            "...                ...             ...           ...     ...            ...      ...         ...     ...           ...               ...                             ...                ...                  ...                          ...                 ...                ...                                 ...                 ...              ...                               ...               ...                  ...                                   ...                   ...             ...                              ...              ...             ...                              ...              ...                 ...                                  ...                  ...                      ...                ...                ...                                      ...                                    ...                             ...                         ...\n",
            "1733                 0       -1.512944     -0.996189       1              0        0           0       1             1                 1                               0                  0                    0                            0                   1                  0                                   1                   0                0                                 1                 0                    0                                     1                     0               0                                1                0               0                                1                0                   0                                    1                    0                        1                  0                  0                                        0                                      0                               0                           1\n",
            "5250                 0        0.989437     -0.486450       1              0        0           0      12             1                 0                               0                  1                    0                            1                   0                  1                                   0                   0                1                                 0                 0                    1                                     0                     0               1                                0                0               0                                0                1                   0                                    0                    1                        1                  0                  0                                        0                                      0                               1                           0\n",
            "5465                 1       -0.286611     -0.318825       0              0        0           0      26             1                 1                               0                  0                    1                            0                   0                  1                                   0                   0                0                                 0                 1                    0                                     0                     1               1                                0                0               1                                0                0                   1                                    0                    0                        0                  1                  0                                        0                                      0                               0                           1\n",
            "5851                 1        1.528029      0.689219       0              1        0           0      35             1                 0                               0                  1                    0                            1                   0                  0                                   0                   1                0                                 0                 1                    0                                     0                     1               0                                0                1               0                                0                1                   0                                    0                    1                        0                  1                  0                                        1                                      0                               0                           0\n",
            "3984                 0       -1.312422     -0.184315       0              0        1           1      72             1                 0                               0                  1                    0                            0                   1                  0                                   1                   0                0                                 1                 0                    0                                     1                     0               0                                1                0               0                                1                0                   0                                    1                    0                        0                  0                  1                                        1                                      0                               0                           0\n",
            "\n",
            "[1407 rows x 40 columns]\n"
          ]
        }
      ]
    },
    {
      "cell_type": "code",
      "source": [
        "#create the model\n",
        "model = LogisticRegression(max_iter=1000)\n",
        "#train the model\n",
        "model.fit(x_train,y_train)"
      ],
      "metadata": {
        "colab": {
          "base_uri": "https://localhost:8080/",
          "height": 74
        },
        "id": "C-bsQjdGYTcS",
        "outputId": "d456b179-dfea-41af-9ca6-dc14693f3c46"
      },
      "execution_count": null,
      "outputs": [
        {
          "output_type": "execute_result",
          "data": {
            "text/plain": [
              "LogisticRegression(max_iter=1000)"
            ],
            "text/html": [
              "<style>#sk-container-id-4 {color: black;background-color: white;}#sk-container-id-4 pre{padding: 0;}#sk-container-id-4 div.sk-toggleable {background-color: white;}#sk-container-id-4 label.sk-toggleable__label {cursor: pointer;display: block;width: 100%;margin-bottom: 0;padding: 0.3em;box-sizing: border-box;text-align: center;}#sk-container-id-4 label.sk-toggleable__label-arrow:before {content: \"▸\";float: left;margin-right: 0.25em;color: #696969;}#sk-container-id-4 label.sk-toggleable__label-arrow:hover:before {color: black;}#sk-container-id-4 div.sk-estimator:hover label.sk-toggleable__label-arrow:before {color: black;}#sk-container-id-4 div.sk-toggleable__content {max-height: 0;max-width: 0;overflow: hidden;text-align: left;background-color: #f0f8ff;}#sk-container-id-4 div.sk-toggleable__content pre {margin: 0.2em;color: black;border-radius: 0.25em;background-color: #f0f8ff;}#sk-container-id-4 input.sk-toggleable__control:checked~div.sk-toggleable__content {max-height: 200px;max-width: 100%;overflow: auto;}#sk-container-id-4 input.sk-toggleable__control:checked~label.sk-toggleable__label-arrow:before {content: \"▾\";}#sk-container-id-4 div.sk-estimator input.sk-toggleable__control:checked~label.sk-toggleable__label {background-color: #d4ebff;}#sk-container-id-4 div.sk-label input.sk-toggleable__control:checked~label.sk-toggleable__label {background-color: #d4ebff;}#sk-container-id-4 input.sk-hidden--visually {border: 0;clip: rect(1px 1px 1px 1px);clip: rect(1px, 1px, 1px, 1px);height: 1px;margin: -1px;overflow: hidden;padding: 0;position: absolute;width: 1px;}#sk-container-id-4 div.sk-estimator {font-family: monospace;background-color: #f0f8ff;border: 1px dotted black;border-radius: 0.25em;box-sizing: border-box;margin-bottom: 0.5em;}#sk-container-id-4 div.sk-estimator:hover {background-color: #d4ebff;}#sk-container-id-4 div.sk-parallel-item::after {content: \"\";width: 100%;border-bottom: 1px solid gray;flex-grow: 1;}#sk-container-id-4 div.sk-label:hover label.sk-toggleable__label {background-color: #d4ebff;}#sk-container-id-4 div.sk-serial::before {content: \"\";position: absolute;border-left: 1px solid gray;box-sizing: border-box;top: 0;bottom: 0;left: 50%;z-index: 0;}#sk-container-id-4 div.sk-serial {display: flex;flex-direction: column;align-items: center;background-color: white;padding-right: 0.2em;padding-left: 0.2em;position: relative;}#sk-container-id-4 div.sk-item {position: relative;z-index: 1;}#sk-container-id-4 div.sk-parallel {display: flex;align-items: stretch;justify-content: center;background-color: white;position: relative;}#sk-container-id-4 div.sk-item::before, #sk-container-id-4 div.sk-parallel-item::before {content: \"\";position: absolute;border-left: 1px solid gray;box-sizing: border-box;top: 0;bottom: 0;left: 50%;z-index: -1;}#sk-container-id-4 div.sk-parallel-item {display: flex;flex-direction: column;z-index: 1;position: relative;background-color: white;}#sk-container-id-4 div.sk-parallel-item:first-child::after {align-self: flex-end;width: 50%;}#sk-container-id-4 div.sk-parallel-item:last-child::after {align-self: flex-start;width: 50%;}#sk-container-id-4 div.sk-parallel-item:only-child::after {width: 0;}#sk-container-id-4 div.sk-dashed-wrapped {border: 1px dashed gray;margin: 0 0.4em 0.5em 0.4em;box-sizing: border-box;padding-bottom: 0.4em;background-color: white;}#sk-container-id-4 div.sk-label label {font-family: monospace;font-weight: bold;display: inline-block;line-height: 1.2em;}#sk-container-id-4 div.sk-label-container {text-align: center;}#sk-container-id-4 div.sk-container {/* jupyter's `normalize.less` sets `[hidden] { display: none; }` but bootstrap.min.css set `[hidden] { display: none !important; }` so we also need the `!important` here to be able to override the default hidden behavior on the sphinx rendered scikit-learn.org. See: https://github.com/scikit-learn/scikit-learn/issues/21755 */display: inline-block !important;position: relative;}#sk-container-id-4 div.sk-text-repr-fallback {display: none;}</style><div id=\"sk-container-id-4\" class=\"sk-top-container\"><div class=\"sk-text-repr-fallback\"><pre>LogisticRegression(max_iter=1000)</pre><b>In a Jupyter environment, please rerun this cell to show the HTML representation or trust the notebook. <br />On GitHub, the HTML representation is unable to render, please try loading this page with nbviewer.org.</b></div><div class=\"sk-container\" hidden><div class=\"sk-item\"><div class=\"sk-estimator sk-toggleable\"><input class=\"sk-toggleable__control sk-hidden--visually\" id=\"sk-estimator-id-4\" type=\"checkbox\" checked><label for=\"sk-estimator-id-4\" class=\"sk-toggleable__label sk-toggleable__label-arrow\">LogisticRegression</label><div class=\"sk-toggleable__content\"><pre>LogisticRegression(max_iter=1000)</pre></div></div></div></div></div>"
            ]
          },
          "metadata": {},
          "execution_count": 118
        }
      ]
    },
    {
      "cell_type": "markdown",
      "source": [
        "##7. Model Evaluation Metrics"
      ],
      "metadata": {
        "id": "uk8oCM9kr360"
      }
    },
    {
      "cell_type": "code",
      "source": [
        "#predictions on the test data\n",
        "predictions = model.predict(x_test)\n",
        "#check precision , recall and f1 score for our model\n",
        "print(classification_report(y_test, predictions))"
      ],
      "metadata": {
        "colab": {
          "base_uri": "https://localhost:8080/"
        },
        "id": "adyRcpSLUKcO",
        "outputId": "9eeb3653-4bf8-4a60-ec49-2fddad07d5f4"
      },
      "execution_count": null,
      "outputs": [
        {
          "output_type": "stream",
          "name": "stdout",
          "text": [
            "              precision    recall  f1-score   support\n",
            "\n",
            "           0       0.84      0.89      0.86      1033\n",
            "           1       0.62      0.52      0.57       374\n",
            "\n",
            "    accuracy                           0.79      1407\n",
            "   macro avg       0.73      0.70      0.72      1407\n",
            "weighted avg       0.78      0.79      0.78      1407\n",
            "\n"
          ]
        }
      ]
    },
    {
      "cell_type": "markdown",
      "source": [
        "Based on the above, the below can be concluded:\n",
        "\n",
        "\n",
        "\n",
        "1.   Precision: Precision is the ratio of true positive predictions to the total predicted positives.\n",
        "\n",
        "*   For class 0 (no churn), the precision is 0.84, which means that out of all the instances predicted as class 0, 84% were actually correct.\n",
        "*   For class 1 (churn), the precision is 0.62, indicating that 62% of the instances predicted as class 1 were correct.\n",
        "\n",
        "2.   Recall: Recall, also known as sensitivity or true positive rate, is the ratio of true positives to the total actual positives.\n",
        "\n",
        "*   For class 0, the recall is 0.89, meaning that the model correctly identified 89% of the actual instances of class 0.\n",
        "*   For class 1, the recall is 0.52, indicating that the model only captured 52% of the actual instances of class 1.\n",
        "\n",
        "3. F1-score: The F1-score is the harmonic mean of precision and recall. It provides a balance between precision and recall.\n",
        "\n",
        "*   For class 0, the F1-score is 0.86\n",
        "*   For class 1, it is 0.57.\n",
        "\n",
        "4. Support: Support is the number of instances in each class.\n",
        "\n",
        "*   For class 0, the support is 1033\n",
        "*   For class 1, it is 374.\n",
        "\n",
        "5. Accuracy: Accuracy is the ratio of correct predictions to the total number of instances. In this case, the model achieved an accuracy of 0.79, meaning it correctly predicted 79% of the instances.\n",
        "\n",
        "These metrics provide an overall assessment of the model's performance in classifying churn and non-churn instances. It indicates that the model has relatively higher accuracy, precision, recall, and F1-score for class 0 (no churn) compared to class 1 (churn). This is mainly caused by the fact that the provided dataset is imbalanced i.e. it has significantly higher counts of no-churn in compairosn with churn counts as shown in previous sections."
      ],
      "metadata": {
        "id": "XEW7YFXUd-sg"
      }
    },
    {
      "cell_type": "code",
      "source": [
        "# Initialize and fit the logistic regression model\n",
        "model = LogisticRegression(max_iter=1000)  # Increase the max_iter value\n",
        "model.fit(X, y)\n",
        "\n",
        "# Get the coefficients\n",
        "coefficients = model.coef_[0]\n",
        "\n",
        "# Get the feature names\n",
        "feature_names = X.columns\n",
        "\n",
        "# Create a dictionary to store feature importance\n",
        "feature_importance = dict(zip(feature_names, coefficients))\n",
        "\n",
        "# Sort the features based on their absolute coefficient values\n",
        "sorted_importance = sorted(feature_importance.items(), key=lambda x: abs(x[1]), reverse=True)\n",
        "\n",
        "# Print the feature importance\n",
        "for feature, importance in sorted_importance:\n",
        "    print(f\"{feature}: {importance}\")"
      ],
      "metadata": {
        "colab": {
          "base_uri": "https://localhost:8080/"
        },
        "id": "4dnHlgFCcQ3k",
        "outputId": "1437dfc5-a5f7-4816-c807-f6899ac52a53"
      },
      "execution_count": null,
      "outputs": [
        {
          "output_type": "stream",
          "name": "stdout",
          "text": [
            "Contract_Month-to-month: 0.5275147727398928\n",
            "Contract_Two year: -0.5184240852572496\n",
            "PaperlessBilling: 0.39432854748979695\n",
            "InternetService_DSL: -0.39376844766976227\n",
            "InternetService_Fiber optic: 0.354385902901069\n",
            "PhoneService: -0.29636575356638734\n",
            "MultipleLines_No: -0.2573359336035756\n",
            "SeniorCitizen: 0.24857318744445292\n",
            "OnlineSecurity_Yes: -0.21992899217529063\n",
            "PaymentMethod_Electronic check: 0.21766583468732634\n",
            "TechSupport_Yes: -0.2133451128036323\n",
            "Contract_One year: -0.1903259678213596\n",
            "OnlineSecurity_No: 0.1805464474215702\n",
            "PaymentMethod_Credit card (automatic): -0.1749310698713013\n",
            "TechSupport_No: 0.17396256807368607\n",
            "Dependents: -0.16827785150371932\n",
            "PaymentMethod_Mailed check: -0.14485516188357292\n",
            "InternetService_No: -0.1418527355573382\n",
            "OnlineSecurity_No internet service: -0.1418527355573382\n",
            "OnlineBackup_No internet service: -0.1418527355573382\n",
            "DeviceProtection_No internet service: -0.1418527355573382\n",
            "TechSupport_No internet service: -0.1418527355573382\n",
            "StreamingTV_No internet service: -0.1418527355573382\n",
            "StreamingMovies_No internet service: -0.1418527355573382\n",
            "StreamingMovies_No: -0.1274095716787852\n",
            "StreamingTV_No: -0.12424613793752952\n",
            "MultipleLines_No phone service: 0.11513047323207047\n",
            "OnlineBackup_Yes: -0.10287852454777956\n",
            "StreamingMovies_Yes: 0.08802702692397318\n",
            "StreamingTV_Yes: 0.08486359317780953\n",
            "PaymentMethod_Bank transfer (automatic): -0.07911488321041898\n",
            "OnlineBackup_No: 0.06349597977776607\n",
            "tenure: -0.060817862312904994\n",
            "MultipleLines_Yes: -0.03902981996810134\n",
            "DeviceProtection_Yes: -0.03571277223007378\n",
            "Partner: 0.021439202783017718\n",
            "gender: -0.019077141890735616\n",
            "DeviceProtection_No: -0.0036697725235323043\n",
            "TotalCharges: 0.0003144437589465076\n",
            "MonthlyCharges: -4.1149165568284074e-05\n"
          ]
        }
      ]
    },
    {
      "cell_type": "markdown",
      "source": [
        "Basedon the above, here are the top five factors that have the most impact on customer churn based on the coefficient values:\n",
        "\n",
        "\n",
        "\n",
        "1.   Contract_Month-to-month: 0.5275147727398928: Customers with a month-to-month contract have a strong positive association with churn, indicating that they are more likely to churn compared to customers with other contract types.\n",
        "2.   Contract_Two year: -0.5184240852572496: Customers with a two-year contract have a strong negative association with churn, suggesting that they are less likely to churn compared to customers with other contract types.\n",
        "3. PaperlessBilling: 0.39432854748979695: Customers who have paperless billing are positively associated with churn, indicating a higher likelihood of churn compared to customers without paperless billing.\n",
        "4. InternetService_DSL: -0.39376844766976227: Customers with DSL internet service have a negative association with churn, suggesting they are less likely to churn compared to customers with other internet service types.\n",
        "5. InternetService_Fiber optic: 0.354385902901069: Customers with fiber optic internet service have a positive association with churn, indicating a higher likelihood of churn compared to customers with other internet service types.\n",
        "\n",
        "These factors play a significant role in predicting customer churn and can help SkyOne understand which features have the most impact on the outcome.\n",
        "\n",
        "\n",
        "\n",
        "\n"
      ],
      "metadata": {
        "id": "mJvNnFoDdaF5"
      }
    }
  ]
}